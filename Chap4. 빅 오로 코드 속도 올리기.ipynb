{
 "cells": [
  {
   "cell_type": "code",
   "execution_count": 1,
   "metadata": {},
   "outputs": [],
   "source": [
    "# 결과 확인을 용이하게 하기 위한 코드\n",
    "from IPython.core.interactiveshell import InteractiveShell\n",
    "InteractiveShell.ast_node_interactivity = 'all'"
   ]
  },
  {
   "cell_type": "markdown",
   "metadata": {},
   "source": [
    "# 4.2 버블 정렬 실제로 해보기"
   ]
  },
  {
   "cell_type": "markdown",
   "metadata": {},
   "source": [
    "## 4.2.1 버블 정렬 구현"
   ]
  },
  {
   "cell_type": "code",
   "execution_count": 2,
   "metadata": {},
   "outputs": [],
   "source": [
    "def bubble_sort(list):\n",
    "\n",
    "    # 아직 정렬되지 않은 배열의 가장 오른쪽 인덱스 \n",
    "    unsorted_until_index = len(list) - 1\n",
    "\n",
    "    # 배열의 정렬 여부를 기록하는 변수\n",
    "    sorted = False\n",
    "\n",
    "    # 1 loop = 1 pass through\n",
    "    while not sorted:\n",
    "        sorted = True\n",
    "        for i in range(unsorted_until_index):\n",
    "            if list[i] > list[i+1]:\n",
    "                list[i], list[i+1] = list[i+1], list[i]\n",
    "                sorted = False\n",
    "        unsorted_until_index -= 1\n",
    "    \n",
    "    return list"
   ]
  },
  {
   "cell_type": "markdown",
   "metadata": {},
   "source": [
    "# 4.5 선형 해결법"
   ]
  },
  {
   "cell_type": "code",
   "execution_count": 5,
   "metadata": {},
   "outputs": [],
   "source": [
    "def hasDuplicateValue(array):\n",
    "    steps = 0\n",
    "    existingNumbers = []\n",
    "\n",
    "    for i in range(len(array)):\n",
    "        steps += 1\n",
    "        if existingNumbers[array[i]] == 1:\n",
    "            return True\n",
    "        else:\n",
    "            existingNumbers[array[i]] = 1\n",
    "    print(steps)\n",
    "    return False "
   ]
  },
  {
   "cell_type": "code",
   "execution_count": 6,
   "metadata": {},
   "outputs": [
    {
     "ename": "IndexError",
     "evalue": "list index out of range",
     "output_type": "error",
     "traceback": [
      "\u001b[0;31m---------------------------------------------------------------------------\u001b[0m",
      "\u001b[0;31mIndexError\u001b[0m                                Traceback (most recent call last)",
      "\u001b[1;32m/Users/lsh/Documents/github/DataStructure_Algorithm/Chap4. 빅 오로 코드 속도 올리기.ipynb Cell 7'\u001b[0m in \u001b[0;36m<cell line: 1>\u001b[0;34m()\u001b[0m\n\u001b[0;32m----> <a href='vscode-notebook-cell:/Users/lsh/Documents/github/DataStructure_Algorithm/Chap4.%20%EB%B9%85%20%EC%98%A4%EB%A1%9C%20%EC%BD%94%EB%93%9C%20%EC%86%8D%EB%8F%84%20%EC%98%AC%EB%A6%AC%EA%B8%B0.ipynb#ch0000010?line=0'>1</a>\u001b[0m hasDuplicateValue([\u001b[39m1\u001b[39;49m,\u001b[39m4\u001b[39;49m,\u001b[39m5\u001b[39;49m,\u001b[39m2\u001b[39;49m,\u001b[39m9\u001b[39;49m])\n",
      "\u001b[1;32m/Users/lsh/Documents/github/DataStructure_Algorithm/Chap4. 빅 오로 코드 속도 올리기.ipynb Cell 6'\u001b[0m in \u001b[0;36mhasDuplicateValue\u001b[0;34m(array)\u001b[0m\n\u001b[1;32m      <a href='vscode-notebook-cell:/Users/lsh/Documents/github/DataStructure_Algorithm/Chap4.%20%EB%B9%85%20%EC%98%A4%EB%A1%9C%20%EC%BD%94%EB%93%9C%20%EC%86%8D%EB%8F%84%20%EC%98%AC%EB%A6%AC%EA%B8%B0.ipynb#ch0000009?line=4'>5</a>\u001b[0m \u001b[39mfor\u001b[39;00m i \u001b[39min\u001b[39;00m \u001b[39mrange\u001b[39m(\u001b[39mlen\u001b[39m(array)\u001b[39m-\u001b[39m\u001b[39m1\u001b[39m):\n\u001b[1;32m      <a href='vscode-notebook-cell:/Users/lsh/Documents/github/DataStructure_Algorithm/Chap4.%20%EB%B9%85%20%EC%98%A4%EB%A1%9C%20%EC%BD%94%EB%93%9C%20%EC%86%8D%EB%8F%84%20%EC%98%AC%EB%A6%AC%EA%B8%B0.ipynb#ch0000009?line=5'>6</a>\u001b[0m     steps \u001b[39m+\u001b[39m\u001b[39m=\u001b[39m \u001b[39m1\u001b[39m\n\u001b[0;32m----> <a href='vscode-notebook-cell:/Users/lsh/Documents/github/DataStructure_Algorithm/Chap4.%20%EB%B9%85%20%EC%98%A4%EB%A1%9C%20%EC%BD%94%EB%93%9C%20%EC%86%8D%EB%8F%84%20%EC%98%AC%EB%A6%AC%EA%B8%B0.ipynb#ch0000009?line=6'>7</a>\u001b[0m     \u001b[39mif\u001b[39;00m existingNumbers[array[i]] \u001b[39m==\u001b[39m \u001b[39m1\u001b[39m:\n\u001b[1;32m      <a href='vscode-notebook-cell:/Users/lsh/Documents/github/DataStructure_Algorithm/Chap4.%20%EB%B9%85%20%EC%98%A4%EB%A1%9C%20%EC%BD%94%EB%93%9C%20%EC%86%8D%EB%8F%84%20%EC%98%AC%EB%A6%AC%EA%B8%B0.ipynb#ch0000009?line=7'>8</a>\u001b[0m         \u001b[39mreturn\u001b[39;00m \u001b[39mTrue\u001b[39;00m\n\u001b[1;32m      <a href='vscode-notebook-cell:/Users/lsh/Documents/github/DataStructure_Algorithm/Chap4.%20%EB%B9%85%20%EC%98%A4%EB%A1%9C%20%EC%BD%94%EB%93%9C%20%EC%86%8D%EB%8F%84%20%EC%98%AC%EB%A6%AC%EA%B8%B0.ipynb#ch0000009?line=8'>9</a>\u001b[0m     \u001b[39melse\u001b[39;00m:\n",
      "\u001b[0;31mIndexError\u001b[0m: list index out of range"
     ]
    }
   ],
   "source": [
    "hasDuplicateValue([1,4,5,2,9])"
   ]
  },
  {
   "cell_type": "code",
   "execution_count": null,
   "metadata": {},
   "outputs": [],
   "source": []
  }
 ],
 "metadata": {
  "interpreter": {
   "hash": "aee8b7b246df8f9039afb4144a1f6fd8d2ca17a180786b69acc140d282b71a49"
  },
  "kernelspec": {
   "display_name": "Python 3.9.10 64-bit",
   "language": "python",
   "name": "python3"
  },
  "language_info": {
   "codemirror_mode": {
    "name": "ipython",
    "version": 3
   },
   "file_extension": ".py",
   "mimetype": "text/x-python",
   "name": "python",
   "nbconvert_exporter": "python",
   "pygments_lexer": "ipython3",
   "version": "3.9.10"
  },
  "orig_nbformat": 4
 },
 "nbformat": 4,
 "nbformat_minor": 2
}
