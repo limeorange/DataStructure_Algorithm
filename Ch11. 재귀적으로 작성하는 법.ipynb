{
 "cells": [
  {
   "cell_type": "markdown",
   "id": "99612a1c",
   "metadata": {},
   "source": [
    "# Q4 (p239)"
   ]
  },
  {
   "cell_type": "code",
   "execution_count": 3,
   "id": "db15ad0d",
   "metadata": {
    "ExecuteTime": {
     "end_time": "2022-05-02T03:08:56.993538Z",
     "start_time": "2022-05-02T03:08:56.989637Z"
    }
   },
   "outputs": [
    {
     "data": {
      "text/plain": [
       "5"
      ]
     },
     "execution_count": 3,
     "metadata": {},
     "output_type": "execute_result"
    }
   ],
   "source": [
    "def index0ofX(string):\n",
    "    if string[0] == 'x':\n",
    "        return 0\n",
    "    return index0ofX(string[1:])+1\n",
    "\n",
    "index0ofX('abcdsx')"
   ]
  },
  {
   "cell_type": "code",
   "execution_count": 57,
   "id": "700b953d",
   "metadata": {
    "ExecuteTime": {
     "end_time": "2022-05-02T06:03:51.053985Z",
     "start_time": "2022-05-02T06:03:51.048846Z"
    }
   },
   "outputs": [
    {
     "data": {
      "text/plain": [
       "[['d', ['d', 'c']], [['d', 'c'], 'd']]"
      ]
     },
     "execution_count": 57,
     "metadata": {},
     "output_type": "execute_result"
    }
   ],
   "source": [
    "# 파이썬 코드 구현 미완성\n",
    "\n",
    "def anagrams(string):\n",
    "    if len(string)==1:\n",
    "        return [string[0]]\n",
    "    collection = []\n",
    "    sub_anagrams = anagrams(string[1:])\n",
    "    for sub_anagram in sub_anagrams:\n",
    "        for j in range(0, len(sub_anagram)):\n",
    "            copy = sub_anagrams.copy()\n",
    "#             copy.insert(j, string[0])\n",
    "            copy.insert(j, 'd')\n",
    "            collection.append(copy)\n",
    "    \n",
    "    return collection\n",
    "\n",
    "anagrams('abc')"
   ]
  },
  {
   "cell_type": "code",
   "execution_count": 37,
   "id": "0cec7b8c",
   "metadata": {
    "ExecuteTime": {
     "end_time": "2022-05-02T05:48:40.592497Z",
     "start_time": "2022-05-02T05:48:40.589271Z"
    }
   },
   "outputs": [
    {
     "data": {
      "text/plain": [
       "['d', 'a', 'b', 'c']"
      ]
     },
     "execution_count": 37,
     "metadata": {},
     "output_type": "execute_result"
    }
   ],
   "source": [
    "aa = ['a', 'b', 'c']\n",
    "aa.insert(0, 'd')\n",
    "aa"
   ]
  },
  {
   "cell_type": "code",
   "execution_count": 29,
   "id": "4f31aff8",
   "metadata": {
    "ExecuteTime": {
     "end_time": "2022-05-02T05:45:29.467603Z",
     "start_time": "2022-05-02T05:45:29.463719Z"
    }
   },
   "outputs": [
    {
     "data": {
      "text/plain": [
       "[['d', 'a', 'b', 'c'], ['a', 'd', 'b', 'c'], ['a', 'b', 'd', 'c']]"
      ]
     },
     "execution_count": 29,
     "metadata": {},
     "output_type": "execute_result"
    }
   ],
   "source": [
    "lst = []\n",
    "test = ['a','b','c']\n",
    "for i in range(0, len(test)):\n",
    "    copy = test.copy()\n",
    "    \n",
    "    # insert는 함수 수행만 하고 객체를 반환하지 않기 때문에\n",
    "    # 함수 수행 후 나온 결과 객체를 append 인자로 따로 넣어줘야 함\n",
    "    copy.insert(i, 'd') \n",
    "    lst.append(copy)\n",
    "lst"
   ]
  },
  {
   "cell_type": "code",
   "execution_count": null,
   "id": "43d6516e",
   "metadata": {},
   "outputs": [],
   "source": []
  }
 ],
 "metadata": {
  "kernelspec": {
   "display_name": "Python 3 (ipykernel)",
   "language": "python",
   "name": "python3"
  },
  "language_info": {
   "codemirror_mode": {
    "name": "ipython",
    "version": 3
   },
   "file_extension": ".py",
   "mimetype": "text/x-python",
   "name": "python",
   "nbconvert_exporter": "python",
   "pygments_lexer": "ipython3",
   "version": "3.9.7"
  },
  "toc": {
   "base_numbering": 1,
   "nav_menu": {},
   "number_sections": true,
   "sideBar": true,
   "skip_h1_title": false,
   "title_cell": "Table of Contents",
   "title_sidebar": "Contents",
   "toc_cell": false,
   "toc_position": {},
   "toc_section_display": true,
   "toc_window_display": false
  }
 },
 "nbformat": 4,
 "nbformat_minor": 5
}
