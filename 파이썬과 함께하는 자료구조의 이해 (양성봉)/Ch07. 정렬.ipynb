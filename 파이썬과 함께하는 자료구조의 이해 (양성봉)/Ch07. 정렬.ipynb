{
 "cells": [
  {
   "cell_type": "markdown",
   "id": "7383826e",
   "metadata": {},
   "source": [
    "# 선택 정렬 (Selection Sort)"
   ]
  },
  {
   "cell_type": "code",
   "execution_count": 15,
   "id": "b12401e4",
   "metadata": {
    "ExecuteTime": {
     "end_time": "2022-05-26T02:03:57.699576Z",
     "start_time": "2022-05-26T02:03:57.694595Z"
    }
   },
   "outputs": [
    {
     "name": "stdout",
     "output_type": "stream",
     "text": [
      "정렬 전 : [54, 88, 77, 26, 93, 17, 49, 10, 17, 77, 11, 31, 22, 44, 17, 20]\n",
      "정렬 후 : [10, 11, 17, 17, 17, 20, 22, 26, 31, 44, 49, 54, 77, 77, 88, 93]\n"
     ]
    }
   ],
   "source": [
    "def selection_sort(a):\n",
    "    for i in range(0, len(a)-1):\n",
    "        minimum = i\n",
    "        for j in range(i, len(a)):\n",
    "            if a[minimum] > a[j]:\n",
    "                minimum = j\n",
    "        a[i], a[minimum] = a[minimum], a[i]\n",
    "\n",
    "a = [54, 88, 77, 26, 93, 17, 49, 10, 17, 77, 11, 31, 22, 44, 17, 20]\n",
    "print('정렬 전 : ', end = '')\n",
    "print(a)\n",
    "selection_sort(a)\n",
    "print('정렬 후 : ', end = '')\n",
    "print(a)"
   ]
  },
  {
   "cell_type": "markdown",
   "id": "7c14a3a1",
   "metadata": {},
   "source": [
    "# 삽입 정렬 (Insertion Sort)"
   ]
  },
  {
   "cell_type": "code",
   "execution_count": 16,
   "id": "f6f8dba8",
   "metadata": {
    "ExecuteTime": {
     "end_time": "2022-05-26T02:04:27.648316Z",
     "start_time": "2022-05-26T02:04:27.644407Z"
    }
   },
   "outputs": [
    {
     "name": "stdout",
     "output_type": "stream",
     "text": [
      "정렬 전 : [54, 88, 77, 26, 93, 17, 49, 10, 17, 77, 11, 31, 22, 44, 17, 20]\n",
      "정렬 후 : [10, 11, 17, 17, 17, 20, 22, 26, 31, 44, 49, 54, 77, 77, 88, 93]\n"
     ]
    }
   ],
   "source": [
    "def insertion_sort(a):\n",
    "    for i in range(1, len(a)):\n",
    "        for j in range(i, 0, -1):\n",
    "            if a[j-1] > a[j]:\n",
    "                a[j], a[j-1] = a[j-1], a[j]\n",
    "                \n",
    "a = [54, 88, 77, 26, 93, 17, 49, 10, 17, 77, 11, 31, 22, 44, 17, 20]\n",
    "print('정렬 전 : ', end = '')\n",
    "print(a)\n",
    "insertion_sort(a)\n",
    "print('정렬 후 : ', end = '')\n",
    "print(a)"
   ]
  },
  {
   "cell_type": "markdown",
   "id": "e97f49db",
   "metadata": {},
   "source": [
    "# 쉘 정렬 (Shell Sort)"
   ]
  },
  {
   "cell_type": "code",
   "execution_count": 17,
   "id": "d634d8dc",
   "metadata": {
    "ExecuteTime": {
     "end_time": "2022-05-26T02:04:45.993644Z",
     "start_time": "2022-05-26T02:04:45.988738Z"
    }
   },
   "outputs": [
    {
     "name": "stdout",
     "output_type": "stream",
     "text": [
      "정렬 전 : [54, 88, 77, 26, 93, 17, 49, 10, 17, 77, 11, 31, 22, 44, 17, 20]\n",
      "정렬 후 : [10, 11, 17, 17, 17, 20, 22, 26, 31, 44, 49, 54, 77, 77, 88, 93]\n"
     ]
    }
   ],
   "source": [
    "def shell_sort(a):\n",
    "    h = 4\n",
    "    while h >= 1:\n",
    "        for i in range(h, len(a)):\n",
    "            j = i\n",
    "            while j >= h and a[j] < a[j-h]:\n",
    "                a[j], a[j-h] = a[j-h], a[j]\n",
    "                j -= h\n",
    "        h //= 3\n",
    "        \n",
    "a = [54, 88, 77, 26, 93, 17, 49, 10, 17, 77, 11, 31, 22, 44, 17, 20]\n",
    "print('정렬 전 : ', end = '')\n",
    "print(a)\n",
    "shell_sort(a)\n",
    "print('정렬 후 : ', end = '')\n",
    "print(a)"
   ]
  },
  {
   "cell_type": "markdown",
   "id": "bb6c93e1",
   "metadata": {},
   "source": [
    "# 힙 정렬 (Heap Sort)"
   ]
  },
  {
   "cell_type": "code",
   "execution_count": 18,
   "id": "a7ef3d2b",
   "metadata": {
    "ExecuteTime": {
     "end_time": "2022-05-26T02:06:03.066756Z",
     "start_time": "2022-05-26T02:06:03.060564Z"
    }
   },
   "outputs": [
    {
     "name": "stdout",
     "output_type": "stream",
     "text": [
      "정렬 전 : [-1, 54, 88, 77, 26, 93, 17, 49, 10, 17, 77, 11, 31, 22, 44, 17, 20]\n",
      "최대힙 : [-1, 93, 88, 77, 26, 77, 31, 49, 20, 17, 54, 11, 17, 22, 44, 17, 10]\n",
      "정렬 후 : [-1, 10, 11, 17, 17, 17, 20, 22, 26, 31, 44, 49, 54, 77, 77, 88, 93]\n"
     ]
    }
   ],
   "source": [
    "def downheap(i, size):\n",
    "    while 2*i <= size:\n",
    "        k = 2*i\n",
    "        if k < size and a[k] < a[k+1]:\n",
    "            k += 1\n",
    "        if a[i] >= a[k]:\n",
    "            break\n",
    "        a[i], a[k] = a[k], a[i]\n",
    "        i = k\n",
    "\n",
    "def create_heap(a):\n",
    "    hsize = len(a) - 1\n",
    "    for i in reversed(range(1, hsize//2+1)):\n",
    "        downheap(i, hsize)\n",
    "\n",
    "def heap_sort(a):\n",
    "    N = len(a) - 1\n",
    "    for i in range(N):\n",
    "        a[1], a[N] = a[N], a[1]\n",
    "        downheap(1, N-1)\n",
    "        N -= 1\n",
    "        \n",
    "a = [-1, 54, 88, 77, 26, 93, 17, 49, 10, 17, 77, 11, 31, 22, 44, 17, 20]\n",
    "print('정렬 전 : ', end = '')\n",
    "print(a)\n",
    "create_heap(a)\n",
    "print('최대힙 : ', end = '')\n",
    "print(a)\n",
    "heap_sort(a)\n",
    "print('정렬 후 : ', end = '')\n",
    "print(a)"
   ]
  },
  {
   "cell_type": "markdown",
   "id": "45003182",
   "metadata": {},
   "source": [
    "## heapq를 이용한 힙정렬"
   ]
  },
  {
   "cell_type": "code",
   "execution_count": 8,
   "id": "aae879e0",
   "metadata": {
    "ExecuteTime": {
     "end_time": "2022-05-26T01:46:35.339518Z",
     "start_time": "2022-05-26T01:46:35.336028Z"
    }
   },
   "outputs": [
    {
     "name": "stdout",
     "output_type": "stream",
     "text": [
      "정렬 전 : [54, 88, 77, 26, 93, 17, 49, 10, 17, 77, 11, 31, 22, 44, 17, 20]\n",
      "힙 : \t [10, 11, 17, 17, 54, 17, 44, 20, 88, 77, 93, 31, 22, 77, 49, 26]\n",
      "정렬 후 : [10, 11, 17, 17, 17, 20, 22, 26, 31, 44, 49, 54, 77, 77, 88, 93]\n"
     ]
    }
   ],
   "source": [
    "import heapq\n",
    "a = [54, 88, 77, 26, 93, 17, 49, 10, 17, 77, 11, 31, 22, 44, 17, 20]\n",
    "print('정렬 전 :', a)\n",
    "\n",
    "heapq.heapify(a)\n",
    "print('힙 : \\t', a)\n",
    "\n",
    "s = []\n",
    "while a:\n",
    "    s.append(heapq.heappop(a))\n",
    "print('정렬 후 :', s)"
   ]
  },
  {
   "cell_type": "markdown",
   "id": "c4e1dcca",
   "metadata": {},
   "source": [
    "# 합병 정렬 (Merge Sort)"
   ]
  },
  {
   "cell_type": "code",
   "execution_count": 9,
   "id": "58148de7",
   "metadata": {
    "ExecuteTime": {
     "end_time": "2022-05-26T01:51:36.919455Z",
     "start_time": "2022-05-26T01:51:36.913223Z"
    }
   },
   "outputs": [
    {
     "name": "stdout",
     "output_type": "stream",
     "text": [
      "정렬 전 : [54, 88, 77, 26, 93, 17, 49, 10, 17, 77, 11, 31, 22, 44, 17, 20]\n",
      "정렬 후 : [10, 11, 17, 17, 17, 20, 22, 26, 31, 44, 49, 54, 77, 77, 88, 93]\n"
     ]
    }
   ],
   "source": [
    "def merge(a, b, low, mid, high):\n",
    "    i = low\n",
    "    j = mid + 1\n",
    "    for k in range(low, high + 1):\n",
    "        if i > mid:\n",
    "            b[k] = a[j]\n",
    "            j += 1\n",
    "        elif j > high:\n",
    "            b[k] = a[i]\n",
    "            i += 1\n",
    "        elif a[j] < a[i]:\n",
    "            b[k] = a[j]\n",
    "            j += 1\n",
    "        else:\n",
    "            b[k] = a[i]\n",
    "            i += 1\n",
    "    \n",
    "    for k in range(low, high + 1):\n",
    "        a[k] = b[k]\n",
    "\n",
    "def merge_sort(a, b, low, high):\n",
    "    if high <= low:\n",
    "        return\n",
    "    mid = low + (high - low) // 2\n",
    "    merge_sort(a, b, low, mid)\n",
    "    merge_sort(a, b, mid + 1, high)\n",
    "    merge(a, b, low, mid, high)\n",
    "\n",
    "a = [54, 88, 77, 26, 93, 17, 49, 10, 17, 77, 11, 31, 22, 44, 17, 20]\n",
    "b = [None] * len(a)\n",
    "print('정렬 전 : ', end = '')\n",
    "print(a)\n",
    "merge_sort(a, b, 0, len(a)-1)\n",
    "print('정렬 후 : ', end = '')\n",
    "print(a)"
   ]
  },
  {
   "cell_type": "markdown",
   "id": "a4c7083b",
   "metadata": {},
   "source": [
    "# 퀵 정렬 (Quick Sort)"
   ]
  },
  {
   "cell_type": "code",
   "execution_count": 13,
   "id": "fa3975e1",
   "metadata": {
    "ExecuteTime": {
     "end_time": "2022-05-26T01:55:32.194347Z",
     "start_time": "2022-05-26T01:55:32.189445Z"
    }
   },
   "outputs": [
    {
     "name": "stdout",
     "output_type": "stream",
     "text": [
      "정렬 전 : [54, 88, 77, 26, 93, 17, 49, 10, 17, 77, 11, 31, 22, 44, 17, 20]\n",
      "정렬 후 : [10, 11, 17, 17, 17, 20, 22, 26, 31, 44, 49, 54, 77, 77, 88, 93]\n"
     ]
    }
   ],
   "source": [
    "def qsort(a, low, high):\n",
    "    if low < high:\n",
    "        pivot = partition(a, low, high)\n",
    "        qsort(a, low, pivot-1)\n",
    "        qsort(a, pivot+1, high)\n",
    "\n",
    "def partition(a, pivot, high):\n",
    "    i = pivot + 1\n",
    "    j = high\n",
    "    while True:\n",
    "        while i < high and a[i] < a[pivot]:\n",
    "            i += 1\n",
    "        while j > pivot and a[j] > a[pivot]:\n",
    "            j -= 1\n",
    "        if j <= i:\n",
    "            break\n",
    "        a[i], a[j] = a[j], a[i]\n",
    "        i += 1\n",
    "        j -= 1\n",
    "\n",
    "    a[pivot], a[j] = a[j], a[pivot]\n",
    "    return j\n",
    "\n",
    "a = [54, 88, 77, 26, 93, 17, 49, 10, 17, 77, 11, 31, 22, 44, 17, 20]\n",
    "print('정렬 전 :', a)\n",
    "qsort(a, 0, len(a)-1)\n",
    "print('정렬 후 :', a)"
   ]
  },
  {
   "cell_type": "markdown",
   "id": "1e625ce9",
   "metadata": {},
   "source": [
    "# 기수 정렬 (Radix Sort)"
   ]
  },
  {
   "cell_type": "code",
   "execution_count": 14,
   "id": "3709f098",
   "metadata": {
    "ExecuteTime": {
     "end_time": "2022-05-26T02:02:28.816260Z",
     "start_time": "2022-05-26T02:02:28.808936Z"
    }
   },
   "outputs": [
    {
     "name": "stdout",
     "output_type": "stream",
     "text": [
      "정렬 전 :ICN  SFO  LAX  FRA  SIN  ROM  HKG  TLV  SYD  MEX  LHR  NRT  JFK  PEK  BER  MOW  \n",
      "2번째 문자 :FRA  SYD  HKG  JFK  PEK  ROM  ICN  SIN  SFO  LHR  BER  NRT  TLV  MOW  LAX  MEX  \n",
      "1번째 문자 :LAX  ICN  PEK  BER  MEX  JFK  SFO  LHR  SIN  HKG  TLV  ROM  MOW  FRA  NRT  SYD  \n",
      "0번째 문자 :BER  FRA  HKG  ICN  JFK  LAX  LHR  MEX  MOW  NRT  PEK  ROM  SFO  SIN  SYD  TLV  \n"
     ]
    }
   ],
   "source": [
    "def lsd_sort(a):\n",
    "    WIDTH = 3\n",
    "    N = len(a)\n",
    "    R = 128\n",
    "    temp = [None] * N\n",
    "    \n",
    "    for d in reversed(range(WIDTH)):\n",
    "        count = [0] * (R + 1)\n",
    "        \n",
    "        for i in range(N):\n",
    "            count[ord(a[i][d]) + 1] += 1\n",
    "        \n",
    "        for j in range(1, R):\n",
    "            count[j] += count[j-1]\n",
    "        \n",
    "        for i in range(N):\n",
    "            p = ord(a[i][d])\n",
    "            temp[count[p]] = a[i]\n",
    "            count[p] += 1\n",
    "        \n",
    "        for i in range(N):\n",
    "            a[i] = temp[i]\n",
    "        \n",
    "        print('%d번째 문자 :'%d, end = '')\n",
    "        \n",
    "        for x in a:\n",
    "            print(x, ' ', end = '')\n",
    "        print()\n",
    "\n",
    "a = ['ICN', 'SFO', 'LAX', 'FRA', 'SIN', 'ROM', 'HKG', 'TLV',\n",
    "     'SYD', 'MEX', 'LHR', 'NRT', 'JFK', 'PEK', 'BER', 'MOW']\n",
    "\n",
    "print('정렬 전 :', end = '')\n",
    "for x in a:\n",
    "    print(x, ' ', end = '')\n",
    "print()\n",
    "lsd_sort(a)"
   ]
  },
  {
   "cell_type": "code",
   "execution_count": null,
   "id": "effeaaa8",
   "metadata": {},
   "outputs": [],
   "source": []
  },
  {
   "cell_type": "code",
   "execution_count": null,
   "id": "3b06fbc6",
   "metadata": {},
   "outputs": [],
   "source": []
  }
 ],
 "metadata": {
  "kernelspec": {
   "display_name": "Python 3 (ipykernel)",
   "language": "python",
   "name": "python3"
  },
  "language_info": {
   "codemirror_mode": {
    "name": "ipython",
    "version": 3
   },
   "file_extension": ".py",
   "mimetype": "text/x-python",
   "name": "python",
   "nbconvert_exporter": "python",
   "pygments_lexer": "ipython3",
   "version": "3.9.7"
  },
  "toc": {
   "base_numbering": 1,
   "nav_menu": {},
   "number_sections": true,
   "sideBar": true,
   "skip_h1_title": false,
   "title_cell": "Table of Contents",
   "title_sidebar": "Contents",
   "toc_cell": false,
   "toc_position": {},
   "toc_section_display": true,
   "toc_window_display": false
  }
 },
 "nbformat": 4,
 "nbformat_minor": 5
}
