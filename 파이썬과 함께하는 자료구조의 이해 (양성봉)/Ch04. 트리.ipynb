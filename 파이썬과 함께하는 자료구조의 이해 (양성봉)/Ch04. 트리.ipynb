{
 "cells": [
  {
   "cell_type": "markdown",
   "id": "2f45fdae",
   "metadata": {},
   "source": [
    "# 이진트리 구현"
   ]
  },
  {
   "cell_type": "code",
   "execution_count": 1,
   "id": "b559e28d",
   "metadata": {
    "ExecuteTime": {
     "end_time": "2022-05-18T08:49:18.654148Z",
     "start_time": "2022-05-18T08:49:18.643371Z"
    }
   },
   "outputs": [],
   "source": [
    "class Node:\n",
    "    def __init__(self, item, left = None, right = None):\n",
    "        self.item = item\n",
    "        self.left = left\n",
    "        self.right = right\n",
    "\n",
    "class BinaryTree:\n",
    "    def __init__(self): # 트리 생성자\n",
    "        self.root = None\n",
    "        \n",
    "    def preorder(self, n): # 전위순회\n",
    "        if n != None:\n",
    "            print(str(n.item), ' ', end = '')\n",
    "            if n.left:\n",
    "                self.preorder(n.left)\n",
    "            if n.right:\n",
    "                self.preorder(n.right)\n",
    "    \n",
    "    def inorder(self, n): # 중위순회\n",
    "        if n != None:\n",
    "            if n.left:\n",
    "                self.inorder(n.left)\n",
    "            print(str(n.item), ' ', end = '')\n",
    "            if n.right:\n",
    "                self.inorder(n.right)\n",
    "    \n",
    "    def postorder(self, n): # 후위순회\n",
    "        if n != None:\n",
    "            if n.left:\n",
    "                self.postorder(n.left)\n",
    "            if n.right:\n",
    "                self.postorder(n.right)\n",
    "            print(str(n.item), ' ', end = '')\n",
    "    \n",
    "    def levelorder(self, root): # 레벨순회\n",
    "        q = []\n",
    "        q.append(root)\n",
    "        while len(q) != 0:\n",
    "            t = q.pop(0)\n",
    "            print(str(t.item), ' ', end = '')\n",
    "            if t.left != None:\n",
    "                q.append(t.left)\n",
    "            if t.right != None:\n",
    "                q.append(t.right)\n",
    "    \n",
    "    def height(self, root):\n",
    "        if root == None:\n",
    "            return 0\n",
    "        return max(self.height(root.left), self.height(root.right)) + 1"
   ]
  },
  {
   "cell_type": "code",
   "execution_count": 3,
   "id": "e898f973",
   "metadata": {
    "ExecuteTime": {
     "end_time": "2022-05-18T08:53:09.134007Z",
     "start_time": "2022-05-18T08:53:09.127994Z"
    }
   },
   "outputs": [
    {
     "name": "stdout",
     "output_type": "stream",
     "text": [
      "트리 높이 =  4\n",
      "전위순회 : \t100  200  400  800  500  300  600  700  \n",
      "중위순회 : \t800  400  200  500  100  600  300  700  \n",
      "후위순회 : \t800  400  500  200  600  700  300  100  \n",
      "레벨순회 : \t100  200  300  400  500  600  700  800  "
     ]
    }
   ],
   "source": [
    "t = BinaryTree()\n",
    "n1 = Node(100)\n",
    "n2 = Node(200)\n",
    "n3 = Node(300)\n",
    "n4 = Node(400)\n",
    "n5 = Node(500)\n",
    "n6 = Node(600)\n",
    "n7 = Node(700)\n",
    "n8 = Node(800)\n",
    "\n",
    "n1.left = n2\n",
    "n1.right = n3\n",
    "n2.left = n4\n",
    "n2.right = n5\n",
    "n3.left = n6\n",
    "n3.right = n7\n",
    "n4.left = n8\n",
    "t.root = n1\n",
    "\n",
    "print('트리 높이 = ', t.height(t.root))\n",
    "print('전위순회 : \\t', end = '')\n",
    "t.preorder(t.root)\n",
    "print('\\n중위순회 : \\t', end = '')\n",
    "t.inorder(t.root)\n",
    "print('\\n후위순회 : \\t', end = '')\n",
    "t.postorder(t.root)\n",
    "print('\\n레벨순회 : \\t', end = '')\n",
    "t.levelorder(t.root)"
   ]
  },
  {
   "cell_type": "markdown",
   "id": "e3c803c6",
   "metadata": {},
   "source": [
    "# 이진힙 (binary heap)"
   ]
  },
  {
   "cell_type": "code",
   "execution_count": 1,
   "id": "23bc1d88",
   "metadata": {
    "ExecuteTime": {
     "end_time": "2022-05-20T05:54:25.885689Z",
     "start_time": "2022-05-20T05:54:25.874547Z"
    }
   },
   "outputs": [],
   "source": [
    "class BHeap:\n",
    "    def __init__(self, a):\n",
    "        self.a = a\n",
    "        self.N = len(a)-1\n",
    "    \n",
    "    def create_heap(self): # 초기 힙 만들기\n",
    "        for i in range(self.N//2, 0, -1):\n",
    "            self.downheap(i)\n",
    "    \n",
    "    def insert(self, key_value): # 삽입 연산\n",
    "        self.N += 1\n",
    "        self.a.append(key_value)\n",
    "        self.upheap(self.N)\n",
    "    \n",
    "    def delete_min(self): # 최솟값 삭제\n",
    "        if self.N == 0:\n",
    "            print('힙이 비어 있음')\n",
    "            return None\n",
    "        minimum = self.a[1]\n",
    "        self.a[1], self.a[-1] = self.a[-1], self.a[1]\n",
    "        del self.a[-1]\n",
    "        self.N -= 1\n",
    "        self.downheap(1)\n",
    "        return minimum\n",
    "    \n",
    "    def downheap(self, i): # 힙 내려가며 힙속성 회복\n",
    "        while 2*i <= self.N:\n",
    "            k = 2*i\n",
    "            if k < self.N and self.a[k][0] > self.a[k+1][0]:\n",
    "                k += 1\n",
    "            if self.a[i][0] < self.a[k][0]:\n",
    "                break\n",
    "            self.a[i], self.a[k] = self.a[k], self.a[i]\n",
    "            i = k\n",
    "    \n",
    "    def upheap(self, j): # 힙 올라가며 힙속성 회복\n",
    "        while j > 1 and self.a[j//2][0] > self.a[j][0]:\n",
    "            self.a[j], self.a[j//2] = self.a[j//2], self.a[j]\n",
    "            j = j//2\n",
    "    \n",
    "    def print_heap(self): # 힙 출력\n",
    "        for i in range(1, self.N+1):\n",
    "            print('[%2d' % self.a[i][0], self.a[i][1], ']', end = '')\n",
    "        print('\\n힙 크기 = ', self.N)"
   ]
  },
  {
   "cell_type": "code",
   "execution_count": 4,
   "id": "af7cbcf8",
   "metadata": {
    "ExecuteTime": {
     "end_time": "2022-05-20T06:03:57.997031Z",
     "start_time": "2022-05-20T06:03:57.990012Z"
    }
   },
   "outputs": [
    {
     "name": "stdout",
     "output_type": "stream",
     "text": [
      "힙 만들기 전 : \n",
      "[90 watermelon ][80 pear ][70 melon ][50 lime ][60 mango ][20 cherry ][30 grape ][35 orange ][10 apricot ][15 banana ][45 lemon ][40 kiwi ]\n",
      "힙 크기 =  12\n",
      "최소힙 : \n",
      "[10 apricot ][15 banana ][20 cherry ][35 orange ][45 lemon ][40 kiwi ][30 grape ][80 pear ][50 lime ][60 mango ][90 watermelon ][70 melon ]\n",
      "힙 크기 =  12\n",
      "최솟값 삭제 후\n",
      "[10, 'apricot']\n",
      "[15 banana ][35 orange ][20 cherry ][50 lime ][45 lemon ][40 kiwi ][30 grape ][80 pear ][70 melon ][60 mango ][90 watermelon ]\n",
      "힙 크기 =  11\n",
      "5 삽입 후\n",
      "[ 5 apple ][35 orange ][15 banana ][50 lime ][45 lemon ][20 cherry ][30 grape ][80 pear ][70 melon ][60 mango ][90 watermelon ][40 kiwi ]\n",
      "힙 크기 =  12\n"
     ]
    }
   ],
   "source": [
    "a = [None] * 1\n",
    "a.append([90, 'watermelon'])\n",
    "a.append([80, 'pear'])\n",
    "a.append([70, 'melon'])\n",
    "a.append([50, 'lime'])\n",
    "a.append([60, 'mango'])\n",
    "a.append([20, 'cherry'])\n",
    "a.append([30, 'grape'])\n",
    "a.append([35, 'orange'])\n",
    "a.append([10, 'apricot'])\n",
    "a.append([15, 'banana'])\n",
    "a.append([45, 'lemon'])\n",
    "a.append([40, 'kiwi'])\n",
    "\n",
    "b = BHeap(a)\n",
    "print('힙 만들기 전 : ')\n",
    "b.print_heap()\n",
    "b.create_heap()\n",
    "print('최소힙 : ')\n",
    "b.print_heap()\n",
    "print('최솟값 삭제 후')\n",
    "print(b.delete_min())\n",
    "b.print_heap()\n",
    "b.insert([5, 'apple'])\n",
    "print('5 삽입 후')\n",
    "b.print_heap()"
   ]
  }
 ],
 "metadata": {
  "kernelspec": {
   "display_name": "Python 3 (ipykernel)",
   "language": "python",
   "name": "python3"
  },
  "language_info": {
   "codemirror_mode": {
    "name": "ipython",
    "version": 3
   },
   "file_extension": ".py",
   "mimetype": "text/x-python",
   "name": "python",
   "nbconvert_exporter": "python",
   "pygments_lexer": "ipython3",
   "version": "3.9.7"
  },
  "toc": {
   "base_numbering": 1,
   "nav_menu": {},
   "number_sections": true,
   "sideBar": true,
   "skip_h1_title": false,
   "title_cell": "Table of Contents",
   "title_sidebar": "Contents",
   "toc_cell": false,
   "toc_position": {},
   "toc_section_display": true,
   "toc_window_display": false
  }
 },
 "nbformat": 4,
 "nbformat_minor": 5
}
