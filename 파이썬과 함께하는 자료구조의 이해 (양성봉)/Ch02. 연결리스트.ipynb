{
 "cells": [
  {
   "cell_type": "markdown",
   "id": "2df3640d",
   "metadata": {},
   "source": [
    "# 단순연결리스트\n",
    "- 단순연결리스트(Singly Linked List) : 동적 메모리 할당을 이용해 노드들을 한 방향으로 연결하여 리스트를 구현하는 자료구조\n",
    "- 동적 메모리 할당을 받아 노드(Node)를 저장하고, 노드는 레퍼런스를 이용하여 다음 노드를 가리키도록 만들어 노드들을 한 줄로 연결시킴\n",
    "- 삽입이나 삭제 시 항목들의 이동이 필요없음 but 탐색 시 항상 첫 노트부터 원하는 노드를 찾을 때까지 순차탐색(Sequential Search)를 해야 함"
   ]
  },
  {
   "cell_type": "code",
   "execution_count": 1,
   "id": "6d77be46",
   "metadata": {
    "ExecuteTime": {
     "end_time": "2022-05-17T01:05:36.997406Z",
     "start_time": "2022-05-17T01:05:36.986582Z"
    }
   },
   "outputs": [],
   "source": [
    "class SList:\n",
    "    class Node:\n",
    "        def __init__(self, item, link):\n",
    "            self.item = item\n",
    "            self.next = link\n",
    "        \n",
    "    def __init__(self):\n",
    "        self.head = None\n",
    "        self.size = 0\n",
    "    \n",
    "    def size(self):\n",
    "        return self.size\n",
    "    \n",
    "    def is_empty(self):\n",
    "        return self.size == 0\n",
    "    \n",
    "    def insert_front(self, item):\n",
    "        if self.is_empty():\n",
    "            self.head = self.Node(item, None)\n",
    "        else:\n",
    "            self.head = self.Node(item, self.head)\n",
    "        self.size += 1\n",
    "    \n",
    "    def insert_after(self, item, p):\n",
    "        p.next = self.Node(item, p.next) # 새 노드가 p 다음 노드가 됨\n",
    "        self.size += 1\n",
    "    \n",
    "    def delete_front(self):\n",
    "        if self.is_empty():\n",
    "            raise EmptyError('Underflow')\n",
    "        else:\n",
    "            self.head = self.head.next\n",
    "            self.size -= 1\n",
    "        \n",
    "    def delete_after(self, p):\n",
    "        if self.is_empty():\n",
    "            raise EmptyError('Underflow')\n",
    "        t = p.next\n",
    "        p.next = t.next # p 다음 노드를 건너뛰어 연결\n",
    "        self.size -= 1\n",
    "    \n",
    "    def search(self, target):\n",
    "        p = self.head\n",
    "        for k in range(self.size):\n",
    "            if target == p.item:\n",
    "                return k # 탐색 성공\n",
    "            p = p.next\n",
    "        return None # 탐색 실패\n",
    "    \n",
    "    def print_list(self):\n",
    "        p = self.head\n",
    "        while p:\n",
    "            if p.next != None:\n",
    "                print(p.item, ' -> ', end = '')\n",
    "            else:\n",
    "                print(p.item)\n",
    "            p = p.next\n",
    "\n",
    "class EmptyError(Exception):\n",
    "    pass"
   ]
  },
  {
   "cell_type": "code",
   "execution_count": 20,
   "id": "48b34140",
   "metadata": {
    "ExecuteTime": {
     "end_time": "2022-05-17T01:19:44.020640Z",
     "start_time": "2022-05-17T01:19:44.015494Z"
    }
   },
   "outputs": [
    {
     "name": "stdout",
     "output_type": "stream",
     "text": [
      "pear  -> apple  -> orange  -> cherry\n",
      "cherry는 3번째\n",
      "kiwi는 None\n",
      "배 다음 노드 삭제 후:\t\tpear  -> orange  -> cherry\n",
      "첫 노드 삭제 후:\t\t\torange  -> cherry\n",
      "첫 노드로 망고, 딸기 삽입 후:\tstrawberry  -> mango  -> orange  -> cherry\n",
      "오렌지 다음 노드 삭제 후:\t\tstrawberry  -> mango  -> orange\n"
     ]
    }
   ],
   "source": [
    "s = SList()\n",
    "s.insert_front('orange')\n",
    "s.insert_front('apple')\n",
    "s.insert_after('cherry', s.head.next)\n",
    "s.insert_front('pear')\n",
    "s.print_list()\n",
    "\n",
    "print('cherry는 %d번째' % s.search('cherry'))\n",
    "print('kiwi는', s.search('kiwi'))\n",
    "print('배 다음 노드 삭제 후:\\t\\t', end = '')\n",
    "s.delete_after(s.head)\n",
    "s.print_list()\n",
    "\n",
    "print('첫 노드 삭제 후:\\t\\t\\t', end = '')\n",
    "s.delete_front()\n",
    "s.print_list()\n",
    "\n",
    "print('첫 노드로 망고, 딸기 삽입 후:\\t', end = '')\n",
    "s.insert_front('mango')\n",
    "s.insert_front('strawberry')\n",
    "s.print_list()\n",
    "\n",
    "s.delete_after(s.head.next.next)\n",
    "print('오렌지 다음 노드 삭제 후:\\t\\t', end = '')\n",
    "s.print_list()"
   ]
  },
  {
   "cell_type": "markdown",
   "id": "06c134ac",
   "metadata": {},
   "source": [
    "# 이중연결리스트\n",
    "- 이중연결리스트(Doubly Linked List) : 각 노드가 두 개의 레퍼런스를 가지고 각각 이전 노드와 다음 노드를 가리키는 연결리스트"
   ]
  },
  {
   "cell_type": "code",
   "execution_count": 31,
   "id": "e7c82589",
   "metadata": {
    "ExecuteTime": {
     "end_time": "2022-05-17T01:46:32.530709Z",
     "start_time": "2022-05-17T01:46:32.523726Z"
    }
   },
   "outputs": [],
   "source": [
    "class DList:\n",
    "    class Node:\n",
    "        def __init__(self, item, prev, link):\n",
    "            self.item = item\n",
    "            self.prev = prev\n",
    "            self.next = link\n",
    "    \n",
    "    def __init__(self): \n",
    "        # 이중연결리스트 생성자 head와 tail, 항목 수(size)로 구성\n",
    "        self.head = self.Node(None, None, None)\n",
    "        self.tail = self.Node(None, self.head, None)\n",
    "        self.head.next = self.tail\n",
    "        self.size = 0\n",
    "    \n",
    "    def size(self):\n",
    "        return self.size\n",
    "    \n",
    "    def is_empty(self):\n",
    "        return self.size == 0\n",
    "\n",
    "    def insert_before(self, p, item):\n",
    "        t = p.prev\n",
    "        n = self.Node(item, t, p)\n",
    "        p.prev = n\n",
    "        t.next = n\n",
    "        self.size += 1\n",
    "        \n",
    "    def insert_after(self, p, item):\n",
    "        t = p.next\n",
    "        n = self.Node(item, p, t)\n",
    "        t.prev = n\n",
    "        p.next = n\n",
    "        self.size += 1\n",
    "    \n",
    "    def delete(self, x):\n",
    "        f = x.prev\n",
    "        r = x.next\n",
    "        f.next = r\n",
    "        r.prev = f\n",
    "        self.size -= 1\n",
    "        return x.item\n",
    "\n",
    "    def print_list(self):\n",
    "        if self.is_empty():\n",
    "            print('리스트 비어있음')\n",
    "        else:\n",
    "            p = self.head.next\n",
    "            while p != self.tail:\n",
    "                if p.next != self.tail:\n",
    "                    print(p.item, ' <=> ', end = '')\n",
    "                else:\n",
    "                    print(p.item)\n",
    "                p = p.next\n",
    "    \n",
    "class EmptyError(Exception):\n",
    "    pass"
   ]
  },
  {
   "cell_type": "code",
   "execution_count": 35,
   "id": "e4c8e3d7",
   "metadata": {
    "ExecuteTime": {
     "end_time": "2022-05-17T01:48:43.893706Z",
     "start_time": "2022-05-17T01:48:43.888481Z"
    }
   },
   "outputs": [
    {
     "name": "stdout",
     "output_type": "stream",
     "text": [
      "apple  <=> pear  <=> orange  <=> cherry\n",
      "마지막 노드 삭제 후 : \tapple  <=> pear  <=> orange\n",
      "맨 끝에 포도 삽입 후 : \tapple  <=> pear  <=> orange  <=> grape\n",
      "첫 노드 삭제 후 : \t\tpear  <=> orange  <=> grape\n",
      "첫 노드 삭제 후 : \t\torange  <=> grape\n",
      "첫 노드 삭제 후 : \t\tgrape\n",
      "첫 노드 삭제 후 : \t\t리스트 비어있음\n"
     ]
    }
   ],
   "source": [
    "s = DList()\n",
    "s.insert_after(s.head, 'apple')\n",
    "s.insert_before(s.tail, 'orange')\n",
    "s.insert_before(s.tail, 'cherry')\n",
    "s.insert_after(s.head.next, 'pear')\n",
    "s.print_list()\n",
    "\n",
    "print('마지막 노드 삭제 후 : \\t', end = '')\n",
    "s.delete(s.tail.prev)\n",
    "s.print_list()\n",
    "\n",
    "print('맨 끝에 포도 삽입 후 : \\t', end = '')\n",
    "s.insert_before(s.tail, 'grape')\n",
    "s.print_list()\n",
    "\n",
    "print('첫 노드 삭제 후 : \\t\\t', end = '')\n",
    "s.delete(s.head.next)\n",
    "s.print_list()\n",
    "\n",
    "print('첫 노드 삭제 후 : \\t\\t', end = '')\n",
    "s.delete(s.head.next)\n",
    "s.print_list()\n",
    "\n",
    "print('첫 노드 삭제 후 : \\t\\t', end = '')\n",
    "s.delete(s.head.next)\n",
    "s.print_list()\n",
    "\n",
    "print('첫 노드 삭제 후 : \\t\\t', end = '')\n",
    "s.delete(s.head.next)\n",
    "s.print_list()"
   ]
  },
  {
   "cell_type": "markdown",
   "id": "c0cb3293",
   "metadata": {},
   "source": [
    "# 원형연결리스트\n",
    "- 원형연결리스트(Circular Linked List) : 마지막 노드가 첫 노드와 연결된 단순연결리스트"
   ]
  },
  {
   "cell_type": "code",
   "execution_count": 36,
   "id": "04b7cc3a",
   "metadata": {
    "ExecuteTime": {
     "end_time": "2022-05-17T01:56:57.868764Z",
     "start_time": "2022-05-17T01:56:57.862499Z"
    }
   },
   "outputs": [],
   "source": [
    "class CList:\n",
    "    class Node:\n",
    "        def __init__(self, item, link):\n",
    "            self.item = item\n",
    "            self.next = link\n",
    "    \n",
    "    def __init__(self):\n",
    "        self.last = None\n",
    "        self.size = 0\n",
    "    \n",
    "    def no_items(self):\n",
    "        return self.size\n",
    "    \n",
    "    def is_empty(self):\n",
    "        return self.size == 0\n",
    "    \n",
    "    def insert(self, item):\n",
    "        n = self.Node(item, None)\n",
    "        if self.is_empty():\n",
    "            n.next = n\n",
    "            self.last = n\n",
    "        else:\n",
    "            n.next = self.last.next\n",
    "            self.last.next = n\n",
    "        self.size += 1\n",
    "    \n",
    "    def first(self):\n",
    "        if self.is_empty():\n",
    "            raise EmptyError('Underflow')\n",
    "        f = self.last.next\n",
    "        return f.item\n",
    "    \n",
    "    def delete(self):\n",
    "        if self.is_empty():\n",
    "            raise EmptyError('Underflow')\n",
    "        x = self.last.next\n",
    "        if self.size == 1:\n",
    "            self.last = None\n",
    "        else:\n",
    "            self.last.next = x.next\n",
    "        self.size -= 1\n",
    "        return x.item\n",
    "    \n",
    "    def print_list(self):\n",
    "        if self.is_empty():\n",
    "            print('리스트 비어있음')\n",
    "        else:\n",
    "            f = self.last.next\n",
    "            p = f\n",
    "            while p.next != f:\n",
    "                print(p.item, ' -> ', end = '')\n",
    "                p = p.next\n",
    "            print(p.item)\n",
    "            \n",
    "class EmptyError(Exception):\n",
    "    pass"
   ]
  },
  {
   "cell_type": "code",
   "execution_count": 41,
   "id": "7b8842ff",
   "metadata": {
    "ExecuteTime": {
     "end_time": "2022-05-17T02:02:47.534634Z",
     "start_time": "2022-05-17T02:02:47.529441Z"
    }
   },
   "outputs": [
    {
     "name": "stdout",
     "output_type": "stream",
     "text": [
      "apple  -> orange  -> cherry  -> pear\n",
      "s의 길이 =  4\n",
      "s의 첫 항목 :  apple\n",
      "첫 노드 삭제 후 : orange  -> cherry  -> pear\n",
      "s의 길이 =  3\n",
      "s의 첫 항목 :  orange\n",
      "첫 노드 삭제 후 : cherry  -> pear\n",
      "첫 노드 삭제 후 : pear\n",
      "첫 노드 삭제 후 : 리스트 비어있음\n"
     ]
    }
   ],
   "source": [
    "s = CList()\n",
    "s.insert('pear')\n",
    "s.insert('cherry')\n",
    "s.insert('orange')\n",
    "s.insert('apple')\n",
    "s.print_list()\n",
    "\n",
    "print('s의 길이 = ', s.no_items())\n",
    "print('s의 첫 항목 : ', s.first())\n",
    "\n",
    "s.delete()\n",
    "print('첫 노드 삭제 후 : ', end = '')\n",
    "s.print_list()\n",
    "\n",
    "print('s의 길이 = ', s.no_items())\n",
    "print('s의 첫 항목 : ', s.first())\n",
    "\n",
    "s.delete()\n",
    "print('첫 노드 삭제 후 : ', end = '')\n",
    "s.print_list()\n",
    "\n",
    "s.delete()\n",
    "print('첫 노드 삭제 후 : ', end = '')\n",
    "s.print_list()\n",
    "\n",
    "s.delete()\n",
    "print('첫 노드 삭제 후 : ', end = '')\n",
    "s.print_list()"
   ]
  }
 ],
 "metadata": {
  "kernelspec": {
   "display_name": "Python 3 (ipykernel)",
   "language": "python",
   "name": "python3"
  },
  "language_info": {
   "codemirror_mode": {
    "name": "ipython",
    "version": 3
   },
   "file_extension": ".py",
   "mimetype": "text/x-python",
   "name": "python",
   "nbconvert_exporter": "python",
   "pygments_lexer": "ipython3",
   "version": "3.9.7"
  },
  "toc": {
   "base_numbering": 1,
   "nav_menu": {},
   "number_sections": true,
   "sideBar": true,
   "skip_h1_title": false,
   "title_cell": "Table of Contents",
   "title_sidebar": "Contents",
   "toc_cell": false,
   "toc_position": {},
   "toc_section_display": true,
   "toc_window_display": false
  }
 },
 "nbformat": 4,
 "nbformat_minor": 5
}
