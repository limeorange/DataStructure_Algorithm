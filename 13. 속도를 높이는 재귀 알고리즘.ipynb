{
 "cells": [
  {
   "cell_type": "markdown",
   "id": "16b1f694",
   "metadata": {},
   "source": [
    "# 퀵 셀렉트"
   ]
  },
  {
   "cell_type": "code",
   "execution_count": 16,
   "id": "f4a9f4e4",
   "metadata": {
    "ExecuteTime": {
     "end_time": "2022-05-06T01:12:42.241301Z",
     "start_time": "2022-05-06T01:12:42.236083Z"
    }
   },
   "outputs": [
    {
     "name": "stdout",
     "output_type": "stream",
     "text": [
      "20\n"
     ]
    }
   ],
   "source": [
    "# 분리 ver.\n",
    "    \n",
    "def partition(array, left_pointer, right_pointer):\n",
    "    pivot_index = right_pointer\n",
    "    pivot = array[pivot_index]\n",
    "    right_pointer -= 1 \n",
    "\n",
    "    while True:\n",
    "        while array[left_pointer] < pivot:\n",
    "            left_pointer += 1\n",
    "        while array[right_pointer] > pivot:\n",
    "            right_pointer -= 1\n",
    "        if left_pointer >= right_pointer:\n",
    "            break\n",
    "        else:\n",
    "            array[left_pointer], array[right_pointer] = array[right_pointer], array[left_pointer]\n",
    "            left_pointer += 1\n",
    "\n",
    "    array[left_pointer], array[pivot_index] = array[pivot_index], array[left_pointer]\n",
    "    return left_pointer\n",
    "\n",
    "def quickselect(array, kth_value, left_index, right_index):\n",
    "    if right_index - left_index <= 0:\n",
    "        return array[left_index]\n",
    "    \n",
    "    pivot_index = partition(array, left_index, right_index)\n",
    "    \n",
    "    if kth_value < pivot_index:\n",
    "        quickselect(array, kth_value, left_index, pivot_index-1)\n",
    "    elif kth_value > pivot_index:\n",
    "        quickselect(array, kth_value, pivot_index+1, right_index)\n",
    "    else:\n",
    "        print(array[pivot_index])\n",
    "    \n",
    "quickselect([0, 50, 20, 10, 60, 30], 2, 0, 5)"
   ]
  },
  {
   "cell_type": "code",
   "execution_count": 21,
   "id": "2817516b",
   "metadata": {
    "ExecuteTime": {
     "end_time": "2022-05-06T01:19:44.583249Z",
     "start_time": "2022-05-06T01:19:44.578364Z"
    }
   },
   "outputs": [
    {
     "name": "stdout",
     "output_type": "stream",
     "text": [
      "20\n"
     ]
    }
   ],
   "source": [
    "# 통합 ver.\n",
    "\n",
    "def quickselect(array, kth_value, start, end):\n",
    "    if end - start <= 0:\n",
    "        return array[start]\n",
    "    \n",
    "    pivot_idx = end\n",
    "    pivot = array[pivot_idx]\n",
    "    left = start\n",
    "    right = end - 1\n",
    "    \n",
    "    while True:\n",
    "        while array[left] < pivot:\n",
    "            left += 1\n",
    "        while array[right] > pivot:\n",
    "            right -= 1\n",
    "        if left >= right:\n",
    "            break\n",
    "        else:\n",
    "            array[left], array[right] = array[right], array[left]\n",
    "            left += 1\n",
    "    \n",
    "    array[left], array[pivot_idx] = array[pivot_idx], array[left]\n",
    "    pivot_idx = left\n",
    "    \n",
    "    if kth_value < pivot_idx:\n",
    "        quickselect(array, kth_value, start, pivot_idx-1)\n",
    "        \n",
    "    elif kth_value > pivot_idx:\n",
    "        quickselect(array, kth_value, pivot_idx+1, end)\n",
    "    \n",
    "    else:\n",
    "        print(array[pivot_idx])\n",
    "\n",
    "quickselect([0, 50, 20, 10, 60, 30], 2, 0, 5)"
   ]
  }
 ],
 "metadata": {
  "kernelspec": {
   "display_name": "Python 3 (ipykernel)",
   "language": "python",
   "name": "python3"
  },
  "language_info": {
   "codemirror_mode": {
    "name": "ipython",
    "version": 3
   },
   "file_extension": ".py",
   "mimetype": "text/x-python",
   "name": "python",
   "nbconvert_exporter": "python",
   "pygments_lexer": "ipython3",
   "version": "3.9.7"
  },
  "toc": {
   "base_numbering": 1,
   "nav_menu": {},
   "number_sections": true,
   "sideBar": true,
   "skip_h1_title": false,
   "title_cell": "Table of Contents",
   "title_sidebar": "Contents",
   "toc_cell": false,
   "toc_position": {},
   "toc_section_display": true,
   "toc_window_display": false
  }
 },
 "nbformat": 4,
 "nbformat_minor": 5
}
