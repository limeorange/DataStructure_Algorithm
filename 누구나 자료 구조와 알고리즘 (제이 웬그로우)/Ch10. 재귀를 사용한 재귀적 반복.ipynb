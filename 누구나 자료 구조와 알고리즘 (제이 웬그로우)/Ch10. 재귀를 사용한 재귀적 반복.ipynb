{
 "cells": [
  {
   "cell_type": "markdown",
   "metadata": {},
   "source": [
    "# 10.1 루프 대신 재귀"
   ]
  },
  {
   "cell_type": "code",
   "execution_count": 4,
   "metadata": {},
   "outputs": [],
   "source": [
    "# for loop으로 구현\n",
    "def countdown(number):\n",
    "    for i in reversed(list(range(number+1))):\n",
    "        print(i)\n"
   ]
  },
  {
   "cell_type": "code",
   "execution_count": 6,
   "metadata": {},
   "outputs": [],
   "source": [
    "# 재귀함수로 구현 (기저 조건 구현 미완료)\n",
    "def countdown_recursion(number):\n",
    "    print(number)\n",
    "    countdown_recursion(number-1)"
   ]
  },
  {
   "cell_type": "markdown",
   "metadata": {},
   "source": [
    "# 10.2 기저 조건"
   ]
  },
  {
   "cell_type": "code",
   "execution_count": 9,
   "metadata": {},
   "outputs": [
    {
     "name": "stdout",
     "output_type": "stream",
     "text": [
      "10\n",
      "9\n",
      "8\n",
      "7\n",
      "6\n",
      "5\n",
      "4\n",
      "3\n",
      "2\n",
      "1\n",
      "0\n"
     ]
    }
   ],
   "source": [
    "# 재귀함수로 구현 (기저 조건 구현 완료)\n",
    "def countdown2(number):\n",
    "    print(number)\n",
    "    if number == 0:\n",
    "        pass\n",
    "    else:\n",
    "        countdown2(number-1)\n",
    "\n",
    "countdown2(10)"
   ]
  },
  {
   "cell_type": "markdown",
   "metadata": {},
   "source": [
    "# 4번 문제 (p215)\n",
    "- 다음의 배열은 숫자와 배열을 포함하며 이때 배열은 다시 수와 배열을 포함할 수 있다. 배열 내 모든 숫자(오로지 숫자만)를 출력하는 재귀 함수를 작성하라."
   ]
  },
  {
   "cell_type": "code",
   "execution_count": 1,
   "metadata": {
    "ExecuteTime": {
     "end_time": "2022-05-02T03:05:16.656776Z",
     "start_time": "2022-05-02T03:05:16.648490Z"
    }
   },
   "outputs": [
    {
     "name": "stdout",
     "output_type": "stream",
     "text": [
      "1\n",
      "2\n",
      "3\n",
      "4\n",
      "5\n",
      "6\n",
      "7\n",
      "8\n",
      "9\n",
      "10\n",
      "11\n",
      "12\n",
      "13\n",
      "14\n",
      "15\n",
      "16\n",
      "17\n",
      "18\n",
      "19\n",
      "20\n",
      "21\n",
      "22\n",
      "23\n",
      "24\n",
      "25\n",
      "26\n",
      "27\n",
      "29\n",
      "30\n",
      "31\n",
      "32\n",
      "33\n"
     ]
    }
   ],
   "source": [
    "array = [\n",
    "    1,\n",
    "    2,\n",
    "    3,\n",
    "    [4, 5, 6],\n",
    "    7,\n",
    "    [8,\n",
    "        [9, 10, 11,\n",
    "            [12, 13, 14]\n",
    "        ]\n",
    "    ],\n",
    "    [15, 16, 17, 18, 19,\n",
    "        [20, 21, 22,\n",
    "            [23, 24, 25,\n",
    "                [26, 27, 29]\n",
    "            ], 30, 31\n",
    "        ], 32    \n",
    "    ], 33\n",
    "]\n",
    "\n",
    "def print_all_items(array):\n",
    "    for value in array:\n",
    "        if isinstance(value, list):\n",
    "            print_all_items(value)\n",
    "        else:\n",
    "            print(value)\n",
    "\n",
    "print_all_items(array)"
   ]
  },
  {
   "cell_type": "code",
   "execution_count": 2,
   "metadata": {
    "ExecuteTime": {
     "end_time": "2022-05-02T03:05:28.884897Z",
     "start_time": "2022-05-02T03:05:28.877448Z"
    }
   },
   "outputs": [
    {
     "data": {
      "text/plain": [
       "''"
      ]
     },
     "execution_count": 2,
     "metadata": {},
     "output_type": "execute_result"
    }
   ],
   "source": [
    "'ab'[1:0]"
   ]
  }
 ],
 "metadata": {
  "interpreter": {
   "hash": "aee8b7b246df8f9039afb4144a1f6fd8d2ca17a180786b69acc140d282b71a49"
  },
  "kernelspec": {
   "display_name": "Python 3 (ipykernel)",
   "language": "python",
   "name": "python3"
  },
  "language_info": {
   "codemirror_mode": {
    "name": "ipython",
    "version": 3
   },
   "file_extension": ".py",
   "mimetype": "text/x-python",
   "name": "python",
   "nbconvert_exporter": "python",
   "pygments_lexer": "ipython3",
   "version": "3.9.7"
  },
  "toc": {
   "base_numbering": 1,
   "nav_menu": {},
   "number_sections": true,
   "sideBar": true,
   "skip_h1_title": false,
   "title_cell": "Table of Contents",
   "title_sidebar": "Contents",
   "toc_cell": false,
   "toc_position": {},
   "toc_section_display": true,
   "toc_window_display": false
  }
 },
 "nbformat": 4,
 "nbformat_minor": 2
}
