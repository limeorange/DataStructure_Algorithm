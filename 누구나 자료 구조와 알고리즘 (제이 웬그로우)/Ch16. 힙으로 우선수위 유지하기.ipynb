{
 "cells": [
  {
   "cell_type": "code",
   "execution_count": 1,
   "id": "1512820b",
   "metadata": {
    "ExecuteTime": {
     "end_time": "2022-06-03T05:53:31.107358Z",
     "start_time": "2022-06-03T05:53:31.097634Z"
    }
   },
   "outputs": [],
   "source": [
    "# index 1에 root node가 위치함\n",
    "\n",
    "class MaxHeap:\n",
    "    \n",
    "    def __init__(self):\n",
    "        self.data = [None]\n",
    "    \n",
    "    def insert(self, item):\n",
    "        self.data.append(item)\n",
    "        i = len(self.data) - 1\n",
    "        \n",
    "        while i > 1:\n",
    "            if self.data[i] > self.data[i//2]:\n",
    "                self.data[i], self.data[i//2] = self.data[i//2], self.data[i]\n",
    "                i = i//2\n",
    "            else:\n",
    "                break\n",
    "    \n",
    "    def remove(self):\n",
    "        if len(self.data) > 1:\n",
    "            self.data[1], self.data[-1] = self.data[-1], self.data[1]\n",
    "            data = self.data.pop(-1)\n",
    "            self.maxHeapify(1)\n",
    "        else:\n",
    "            data = None\n",
    "        return data\n",
    "    \n",
    "    def maxHeapify(self, i):\n",
    "        left = 2 * i\n",
    "        right = (2 * i) + 1\n",
    "        smallest = i\n",
    "        \n",
    "        if left < len(self.data) and self.data[i] < self.data[left]:\n",
    "            smallest = left\n",
    "        \n",
    "        if right < len(self.data) and self.data[i] > self.data[right]:\n",
    "            smallest = right\n",
    "        \n",
    "        if smallest != i:\n",
    "            self.data[i], self.data[smallest] = self.data[smallest], self.data[i]\n",
    "            self.maxHeapify(smallest)"
   ]
  }
 ],
 "metadata": {
  "kernelspec": {
   "display_name": "Python 3 (ipykernel)",
   "language": "python",
   "name": "python3"
  },
  "language_info": {
   "codemirror_mode": {
    "name": "ipython",
    "version": 3
   },
   "file_extension": ".py",
   "mimetype": "text/x-python",
   "name": "python",
   "nbconvert_exporter": "python",
   "pygments_lexer": "ipython3",
   "version": "3.9.7"
  },
  "toc": {
   "base_numbering": 1,
   "nav_menu": {},
   "number_sections": true,
   "sideBar": true,
   "skip_h1_title": false,
   "title_cell": "Table of Contents",
   "title_sidebar": "Contents",
   "toc_cell": false,
   "toc_position": {},
   "toc_section_display": true,
   "toc_window_display": false
  }
 },
 "nbformat": 4,
 "nbformat_minor": 5
}
