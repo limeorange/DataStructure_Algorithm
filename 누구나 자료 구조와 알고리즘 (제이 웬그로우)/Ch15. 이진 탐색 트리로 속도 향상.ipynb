{
 "cells": [
  {
   "cell_type": "markdown",
   "id": "4feae4ec",
   "metadata": {},
   "source": [
    "# 트리 노드 구현"
   ]
  },
  {
   "cell_type": "code",
   "execution_count": 5,
   "id": "d46512c3",
   "metadata": {
    "ExecuteTime": {
     "end_time": "2022-05-30T03:11:56.601537Z",
     "start_time": "2022-05-30T03:11:56.598620Z"
    }
   },
   "outputs": [],
   "source": [
    "class TreeNode:\n",
    "    def __init__(self, val, left = None, right = None):\n",
    "        self.value = val\n",
    "        self.leftChild = left\n",
    "        self.rightChild = right\n",
    "\n",
    "node1 = TreeNode(25)\n",
    "node2 = TreeNode(75)\n",
    "root = TreeNode(50, node1, node2)"
   ]
  },
  {
   "cell_type": "markdown",
   "id": "a111bdac",
   "metadata": {},
   "source": [
    "# 검색"
   ]
  },
  {
   "cell_type": "code",
   "execution_count": 6,
   "id": "26b46a94",
   "metadata": {
    "ExecuteTime": {
     "end_time": "2022-05-30T03:11:56.605653Z",
     "start_time": "2022-05-30T03:11:56.602976Z"
    }
   },
   "outputs": [],
   "source": [
    "def search(searchValue, node): # 처음 node는 로트 노드임\n",
    "    if node is None or node.value == searchValue:\n",
    "        return node # node가 None일 시 실제 node에 들어있는 None 반환함\n",
    "    \n",
    "    elif searchValue < node.value:\n",
    "        return search(searchValue, node.leftChild)\n",
    "    \n",
    "    else: # searchValue > node.value\n",
    "        return search(searchValue, node.rightChild)"
   ]
  },
  {
   "cell_type": "markdown",
   "id": "c9e0a2d6",
   "metadata": {},
   "source": [
    "# 삽입"
   ]
  },
  {
   "cell_type": "code",
   "execution_count": 7,
   "id": "8f0cc0c1",
   "metadata": {
    "ExecuteTime": {
     "end_time": "2022-05-30T03:11:56.610056Z",
     "start_time": "2022-05-30T03:11:56.607098Z"
    }
   },
   "outputs": [],
   "source": [
    "def insert(value, node):\n",
    "    if value < node.value:\n",
    "        if node.leftChild is None:\n",
    "            node.leftChild = TreeNode(value)\n",
    "        else:\n",
    "            insert(value, node.leftChild)\n",
    "    \n",
    "    elif value > node.value:\n",
    "        if node.rightChild is None:\n",
    "            node.rightChild = TreeNode(value)\n",
    "        else:\n",
    "            insert(value, node.rightChild)"
   ]
  },
  {
   "cell_type": "markdown",
   "id": "dfcaaa6a",
   "metadata": {},
   "source": [
    "# 삭제"
   ]
  },
  {
   "cell_type": "code",
   "execution_count": 8,
   "id": "a0ee6b93",
   "metadata": {
    "ExecuteTime": {
     "end_time": "2022-05-30T03:11:56.615365Z",
     "start_time": "2022-05-30T03:11:56.611610Z"
    }
   },
   "outputs": [],
   "source": [
    "def delete(d_value, node):\n",
    "    if node is None:\n",
    "        return None\n",
    "    \n",
    "    elif d_value < node.value:\n",
    "        node.leftChild = delete(d_value, node.leftChild)\n",
    "        return node\n",
    "    \n",
    "    elif d_value > node.value:\n",
    "        node.rightChild = delete(d_value, node.rightChild)\n",
    "        return node\n",
    "    \n",
    "    elif d_value == node.value:\n",
    "        \n",
    "        if node.leftChild is None:\n",
    "            return node.rightChild\n",
    "        \n",
    "        elif node.rightChild is None:\n",
    "            return node.leftChild\n",
    "        \n",
    "        else:\n",
    "            node.rightChild = lift(node.rightChild, node)\n",
    "            return node\n",
    "\n",
    "def lift(node, d_node):\n",
    "    if node.leftChild:\n",
    "        node.leftChild = lift(node.leftChild, d_node)\n",
    "        return node\n",
    "    else:\n",
    "        d_node.value = node.value\n",
    "        return node.rightChild"
   ]
  }
 ],
 "metadata": {
  "kernelspec": {
   "display_name": "Python 3 (ipykernel)",
   "language": "python",
   "name": "python3"
  },
  "language_info": {
   "codemirror_mode": {
    "name": "ipython",
    "version": 3
   },
   "file_extension": ".py",
   "mimetype": "text/x-python",
   "name": "python",
   "nbconvert_exporter": "python",
   "pygments_lexer": "ipython3",
   "version": "3.9.7"
  },
  "toc": {
   "base_numbering": 1,
   "nav_menu": {},
   "number_sections": true,
   "sideBar": true,
   "skip_h1_title": false,
   "title_cell": "Table of Contents",
   "title_sidebar": "Contents",
   "toc_cell": false,
   "toc_position": {},
   "toc_section_display": true,
   "toc_window_display": false
  }
 },
 "nbformat": 4,
 "nbformat_minor": 5
}
