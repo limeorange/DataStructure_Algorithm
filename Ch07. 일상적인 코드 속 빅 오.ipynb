{
 "cells": [
  {
   "cell_type": "code",
   "execution_count": 17,
   "metadata": {},
   "outputs": [],
   "source": [
    "# 결과 확인을 용이하게 하기 위한 코드\n",
    "from IPython.core.interactiveshell import InteractiveShell\n",
    "InteractiveShell.ast_node_interactivity = 'all'"
   ]
  },
  {
   "cell_type": "markdown",
   "metadata": {},
   "source": [
    "# 7.1 짝수의 평균\n",
    "- 수 배열을 받아 모든 짝수의 평균을 반환하기"
   ]
  },
  {
   "cell_type": "code",
   "execution_count": 6,
   "metadata": {},
   "outputs": [],
   "source": [
    "# O(N)\n",
    "def average_of_even_numbers(array):\n",
    "\n",
    "    # 짝수의 평균은 짝수의 합을 짝수 개수로 나눈 값이므로\n",
    "    # 합과 개수를 모두 기록한다.\n",
    "\n",
    "    sum = 0\n",
    "    n_even = 0\n",
    "\n",
    "    # 배열의 각 수를 순회하면서\n",
    "    # 짝수가 나오면 합과 개수를 수정한다.\n",
    "\n",
    "    for num in array:\n",
    "        if num % 2 == 0:\n",
    "            sum += num\n",
    "            n_even += 1\n",
    "    \n",
    "    # 평균을 반환한다.\n",
    "    return (sum / n_even)"
   ]
  },
  {
   "cell_type": "code",
   "execution_count": 7,
   "metadata": {},
   "outputs": [
    {
     "data": {
      "text/plain": [
       "4.0"
      ]
     },
     "execution_count": 7,
     "metadata": {},
     "output_type": "execute_result"
    }
   ],
   "source": [
    "average_of_even_numbers([1,2,3,4,5,6,7])"
   ]
  },
  {
   "cell_type": "markdown",
   "metadata": {},
   "source": [
    "# 7.2 단어 생성기\n",
    "- 문자 배열로부터 두 글자끼리 모든 문자열 조합을 모으는 알고리즘"
   ]
  },
  {
   "cell_type": "code",
   "execution_count": 8,
   "metadata": {},
   "outputs": [],
   "source": [
    "# O(N^2)\n",
    "def wordBuilder(array):\n",
    "    collection = []\n",
    "\n",
    "    for i in range(len(array)):\n",
    "        for j in range(len(array)):\n",
    "            if (i != j):\n",
    "                collection.append(array[i]+array[j])\n",
    "    return collection"
   ]
  },
  {
   "cell_type": "code",
   "execution_count": 9,
   "metadata": {},
   "outputs": [
    {
     "data": {
      "text/plain": [
       "['ab', 'ac', 'ad', 'ba', 'bc', 'bd', 'ca', 'cb', 'cd', 'da', 'db', 'dc']"
      ]
     },
     "execution_count": 9,
     "metadata": {},
     "output_type": "execute_result"
    }
   ],
   "source": [
    "wordBuilder(['a','b','c','d'])"
   ]
  },
  {
   "cell_type": "markdown",
   "metadata": {},
   "source": [
    "# 7.3 배열 예제\n",
    "- 배열에서 소규모 샘플을 취하는 함수를 생성한다. 아주 큰 배열이라 생각하고 맨 앞과 가운데, 맨 뒤 값을 샘플링한다."
   ]
  },
  {
   "cell_type": "code",
   "execution_count": 10,
   "metadata": {},
   "outputs": [],
   "source": [
    "# O(1)\n",
    "def sample(array):\n",
    "    first = array[0]\n",
    "    middle = array[int(len(array) / 2)]\n",
    "    last = array[-1]\n",
    "\n",
    "    return [first, middle, last]"
   ]
  },
  {
   "cell_type": "markdown",
   "metadata": {},
   "source": [
    "# 7.4 평균 섭씨 온도 구하기\n",
    "- 도시의 온도를 알려면 도시에 퍼져 있는 수많은 온도계에서 온도를 읽어 그 온도들의 평균을 계산해야 한다. 온도는 섭씨와 화씨 둘 다로 표시하고 싶으나 읽을 때는 화씨다. 섭씨 온도 평균을 구하기 위해 알고리즘은 두 가지 일을 한다. 먼저 화씨 온도를 섭씨로 변환한다. 이어서 섭씨 온도의 평균을 계산한다."
   ]
  },
  {
   "cell_type": "code",
   "execution_count": 12,
   "metadata": {},
   "outputs": [],
   "source": [
    "# O(N)\n",
    "def average_celsius(화씨_list):\n",
    "\n",
    "    # 섭씨 온도를 모으는 컬렉션\n",
    "    섭씨_list = []\n",
    "\n",
    "    # 읽은 값을 섭씨로 변환해 배열에 추가한다.\n",
    "    for i in 화씨_list:\n",
    "        섭씨_temp = (i - 32) / 1.8\n",
    "        섭씨_list.append(섭씨_temp)\n",
    "    \n",
    "    # 섭씨 온도의 합을 구한다.\n",
    "    섭씨_sum = 0\n",
    "    \n",
    "    for j in 섭씨_list:\n",
    "        섭씨_sum += j\n",
    "    \n",
    "    # 평균을 반환한다.\n",
    "    return 섭씨_sum / len(섭씨_list)"
   ]
  },
  {
   "cell_type": "markdown",
   "metadata": {},
   "source": [
    "# 7.5 의류 상표\n",
    "- (문자열에 저장된) 새로 생산한 의류 품목 배열을 받아 상표에 넣어야 할 텍스트를 생성한다. 구체적으로 말하면 상표에는 품명과 1부터 5까지의 사이즈가 들어가야 한다."
   ]
  },
  {
   "cell_type": "code",
   "execution_count": 13,
   "metadata": {},
   "outputs": [],
   "source": [
    "# O(N) / O(N^2)로 착각 주의! 엄밀히 따지면 O(5N)임\n",
    "def mark_inventory(items):\n",
    "    options = []\n",
    "\n",
    "    for item in items:\n",
    "        # 1부터 5까지의 각 사이즈에 대해 수행한다.\n",
    "        for size in range(1,6):\n",
    "            options.append(item + ' Size: '+str(size))\n",
    "    return options"
   ]
  },
  {
   "cell_type": "markdown",
   "metadata": {},
   "source": [
    "# 7.6 1 세기\n",
    "- 중첩된 배열이 있을 때 그 안의 1의 개수 반환하기"
   ]
  },
  {
   "cell_type": "code",
   "execution_count": 14,
   "metadata": {},
   "outputs": [],
   "source": [
    "# O(N)\n",
    "def count_ones(outer_array):\n",
    "    count = 0\n",
    "\n",
    "    for inner_array in outer_array:\n",
    "        for number in inner_array:\n",
    "            if number == 1:\n",
    "                count += 1\n",
    "    return count"
   ]
  },
  {
   "cell_type": "code",
   "execution_count": 18,
   "metadata": {},
   "outputs": [
    {
     "name": "stdout",
     "output_type": "stream",
     "text": [
      "[0, 1, 1, 1, 0]\n",
      "0\n",
      "1\n",
      "1\n",
      "1\n",
      "0\n",
      "[0, 1, 0, 1, 0, 1]\n",
      "0\n",
      "1\n",
      "0\n",
      "1\n",
      "0\n",
      "1\n",
      "[1, 0]\n",
      "1\n",
      "0\n"
     ]
    },
    {
     "name": "stderr",
     "output_type": "stream",
     "text": [
      "/var/folders/gz/l3tl4gf96231sq9ztwck08x00000gp/T/ipykernel_14068/4163180525.py:1: VisibleDeprecationWarning: Creating an ndarray from ragged nested sequences (which is a list-or-tuple of lists-or-tuples-or ndarrays with different lengths or shapes) is deprecated. If you meant to do this, you must specify 'dtype=object' when creating the ndarray.\n",
      "  outer_array = np.array([[0,1,1,1,0],[0,1,0,1,0,1],[1,0]])\n"
     ]
    }
   ],
   "source": [
    "# 안쪽 루프가 총 수 개수 만큼만 실행됨\n",
    "outer_array = np.array([[0,1,1,1,0],[0,1,0,1,0,1],[1,0]])\n",
    "\n",
    "for inner_array in outer_array:\n",
    "    print(inner_array)\n",
    "    for number in inner_array:\n",
    "            print(number)"
   ]
  },
  {
   "cell_type": "markdown",
   "metadata": {},
   "source": [
    "# 7.7 팰린드롬 검사기\n",
    "- 앞으로 혹은 뒤로 모두 똑같은 단어 혹은 구절이다. 'racecar', 'kayak','deified'등이 팰린드롬이다. 어떤 문자열이 팰린드롬인지 판단하는 함수를 작성하기"
   ]
  },
  {
   "cell_type": "code",
   "execution_count": 19,
   "metadata": {},
   "outputs": [],
   "source": [
    "# O(N/2) -> O(N)\n",
    "def isPalindrome(string):\n",
    "\n",
    "    # leftindex를 인덱스 0에서 시작시킨다.\n",
    "    leftindex = 0\n",
    "\n",
    "    # rightindex를 배열의 마지막 인덱스에서 시작시킨다.\n",
    "    rightindex = len(string)-1\n",
    "\n",
    "    # leftindex가 배열 중간에 도달할 때까지 순회한다.\n",
    "    while (leftindex < len(string)/2):\n",
    "        \n",
    "        # 왼쪽 문자와 오른쪽 문자가 일치하지 않으면\n",
    "        # 문자열은 팰린드롬이 아니다.\n",
    "        if string[leftindex] != string[rightindex]:\n",
    "            return False\n",
    "        \n",
    "        # leftindex를 오른쪽으로 한 칸 옮긴다.\n",
    "        leftindex += 1\n",
    "        # rightindex를 왼쪽으로 한 칸 옮긴다.\n",
    "        rightindex -= 1\n",
    "    \n",
    "    # 불일치하는 문자 없이 전체 루프를 통과했으면\n",
    "    # 문자열은 당연히 팰린드롬이다.\n",
    "    return True\n"
   ]
  },
  {
   "cell_type": "markdown",
   "metadata": {},
   "source": [
    "# 7.8 모든 곱 구하기\n",
    "- 수 배열을 받아 모든 두 숫자 조합의 곱을 반환하는 알고리즘"
   ]
  },
  {
   "cell_type": "code",
   "execution_count": 24,
   "metadata": {},
   "outputs": [],
   "source": [
    "# O(N^2/2) -> O(N^2)\n",
    "def twoNumberProducts(array):\n",
    "    products = []\n",
    "\n",
    "    # 바깥 배열\n",
    "    for i in range(len(array)-1):\n",
    "\n",
    "        # 안쪽 배열\n",
    "        # j는 항상 i의 오른쪽 인덱스에서 시작한다.\n",
    "        for j in range(i+1,len(array)):\n",
    "            products.append(array[i] * array[j])\n",
    "    \n",
    "    return products"
   ]
  },
  {
   "cell_type": "code",
   "execution_count": 25,
   "metadata": {},
   "outputs": [
    {
     "data": {
      "text/plain": [
       "[2, 3, 4, 5, 6, 8, 10, 12, 15, 20]"
      ]
     },
     "execution_count": 25,
     "metadata": {},
     "output_type": "execute_result"
    }
   ],
   "source": [
    "twoNumberProducts([1,2,3,4,5])"
   ]
  },
  {
   "cell_type": "markdown",
   "metadata": {},
   "source": [
    "## 7.8.1 여러 데이터 세트 다루기\n",
    "- 한 배열의 모든 수와 다른 한 배열의 모든 수의 곱을 계산하기"
   ]
  },
  {
   "cell_type": "code",
   "execution_count": 27,
   "metadata": {},
   "outputs": [],
   "source": [
    "# O(N x M)\n",
    "def twoNumberProducts(array1, array2):\n",
    "    products = []\n",
    "\n",
    "    for i in range(len(array1)):\n",
    "        for j in range(len(array2)):\n",
    "            products.append(array1[i]*array[j])\n",
    "    return Products"
   ]
  },
  {
   "cell_type": "markdown",
   "metadata": {},
   "source": [
    "# 7.9 암호 크래커\n",
    "- 당신은 누군가의 암호를 풀려는 화이트 해커다. 브루트 포스 방식으로 풀기로 하고 주어진 길이의 모든 문자열 조합을 생성하는 코드를 작성했다."
   ]
  },
  {
   "cell_type": "code",
   "execution_count": 32,
   "metadata": {},
   "outputs": [
    {
     "ename": "SyntaxError",
     "evalue": "invalid syntax (894990730.py, line 2)",
     "output_type": "error",
     "traceback": [
      "\u001b[0;36m  Input \u001b[0;32mIn [32]\u001b[0;36m\u001b[0m\n\u001b[0;31m    def every_password(n)\u001b[0m\n\u001b[0m                         ^\u001b[0m\n\u001b[0;31mSyntaxError\u001b[0m\u001b[0;31m:\u001b[0m invalid syntax\n"
     ]
    }
   ],
   "source": [
    "# ruby 언어..인데 실행이 안되네\n",
    "# O(26^N)\n",
    "def every_password(n)\n",
    "    ((\"a\" * n)..(\"z\" * n)).each do |str|\n",
    "        puts str\n",
    "    end\n",
    "end"
   ]
  }
 ],
 "metadata": {
  "interpreter": {
   "hash": "aee8b7b246df8f9039afb4144a1f6fd8d2ca17a180786b69acc140d282b71a49"
  },
  "kernelspec": {
   "display_name": "Python 3.9.10 64-bit",
   "language": "python",
   "name": "python3"
  },
  "language_info": {
   "codemirror_mode": {
    "name": "ipython",
    "version": 3
   },
   "file_extension": ".py",
   "mimetype": "text/x-python",
   "name": "python",
   "nbconvert_exporter": "python",
   "pygments_lexer": "ipython3",
   "version": "3.9.10"
  },
  "orig_nbformat": 4
 },
 "nbformat": 4,
 "nbformat_minor": 2
}
