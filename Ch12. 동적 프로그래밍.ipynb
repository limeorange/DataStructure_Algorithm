{
 "cells": [
  {
   "cell_type": "markdown",
   "metadata": {},
   "source": [
    "# Q1 (p256)"
   ]
  },
  {
   "cell_type": "code",
   "execution_count": 3,
   "metadata": {
    "ExecuteTime": {
     "end_time": "2022-05-03T08:57:30.465567Z",
     "start_time": "2022-05-03T08:57:30.461503Z"
    }
   },
   "outputs": [
    {
     "data": {
      "text/plain": [
       "100"
      ]
     },
     "execution_count": 3,
     "metadata": {},
     "output_type": "execute_result"
    }
   ],
   "source": [
    "def add_until_100(array):\n",
    "    if len(array)==0:\n",
    "        return 0\n",
    "    sum_temp = add_until_100(array[1:])\n",
    "    if (array[0] + sum_temp) > 100:\n",
    "        return sum_temp\n",
    "    else:\n",
    "        return array[0] + sum_temp\n",
    "\n",
    "add_until_100([10, 20, 100])"
   ]
  },
  {
   "cell_type": "markdown",
   "metadata": {},
   "source": [
    "# Q2 (p257)"
   ]
  },
  {
   "cell_type": "code",
   "execution_count": 5,
   "metadata": {
    "ExecuteTime": {
     "end_time": "2022-05-03T09:00:34.359514Z",
     "start_time": "2022-05-03T09:00:34.355634Z"
    }
   },
   "outputs": [
    {
     "data": {
      "text/plain": [
       "3"
      ]
     },
     "execution_count": 5,
     "metadata": {},
     "output_type": "execute_result"
    }
   ],
   "source": [
    "def golomb(n, memo={}):\n",
    "    if n == 1:\n",
    "        return 1\n",
    "    if not memo.get(n):\n",
    "        memo[n] = 1 + golomb(n-golomb(golomb(n-1, memo), memo), memo)\n",
    "    return memo[n]\n",
    "\n",
    "golomb(5)"
   ]
  },
  {
   "cell_type": "markdown",
   "metadata": {},
   "source": [
    "# Q3 (p257)"
   ]
  },
  {
   "cell_type": "code",
   "execution_count": 8,
   "metadata": {
    "ExecuteTime": {
     "end_time": "2022-05-03T09:03:16.161600Z",
     "start_time": "2022-05-03T09:03:16.157224Z"
    }
   },
   "outputs": [
    {
     "data": {
      "text/plain": [
       "3"
      ]
     },
     "execution_count": 8,
     "metadata": {},
     "output_type": "execute_result"
    }
   ],
   "source": [
    "def unique_paths(rows, columns, memo={}):\n",
    "    if (rows == 1) or (columns == 1):\n",
    "        return 1\n",
    "    if not memo.get((rows, columns)):\n",
    "        memo[(rows, columns)] = unique_paths(rows-1, columns, memo) + unique_paths(rows, columns-1, memo)\n",
    "    return memo[(rows, columns)]\n",
    "\n",
    "unique_paths(3, 2)"
   ]
  }
 ],
 "metadata": {
  "kernelspec": {
   "display_name": "Python 3 (ipykernel)",
   "language": "python",
   "name": "python3"
  },
  "language_info": {
   "codemirror_mode": {
    "name": "ipython",
    "version": 3
   },
   "file_extension": ".py",
   "mimetype": "text/x-python",
   "name": "python",
   "nbconvert_exporter": "python",
   "pygments_lexer": "ipython3",
   "version": "3.9.7"
  },
  "toc": {
   "base_numbering": 1,
   "nav_menu": {},
   "number_sections": true,
   "sideBar": true,
   "skip_h1_title": false,
   "title_cell": "Table of Contents",
   "title_sidebar": "Contents",
   "toc_cell": false,
   "toc_position": {},
   "toc_section_display": true,
   "toc_window_display": false
  }
 },
 "nbformat": 4,
 "nbformat_minor": 2
}
