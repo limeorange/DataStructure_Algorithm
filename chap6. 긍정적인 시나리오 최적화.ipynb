{
 "cells": [
  {
   "cell_type": "code",
   "execution_count": 1,
   "metadata": {},
   "outputs": [],
   "source": [
    "# 결과 확인을 용이하게 하기 위한 코드\n",
    "from IPython.core.interactiveshell import InteractiveShell\n",
    "InteractiveShell.ast_node_interactivity = 'all'\n",
    "\n",
    "import numpy as np"
   ]
  },
  {
   "cell_type": "markdown",
   "metadata": {},
   "source": [
    "# 6.2 삽입 정렬 실제로 해보기"
   ]
  },
  {
   "cell_type": "markdown",
   "metadata": {},
   "source": [
    "## 6.2.1 삽입 정렬 구현"
   ]
  },
  {
   "cell_type": "code",
   "execution_count": 2,
   "metadata": {},
   "outputs": [],
   "source": [
    "def insertion_sort(array):\n",
    "    # 인덱스 1부터 전체 배열을 순회하는 루프를 시작 (매 루프가 하나의 패스스루를 뜻함)\n",
    "    for index in range(1, len(array)):\n",
    "        \n",
    "        # 각 패스스루마다 '제거 중인' 값을 temp_value라는 변수에 저장함\n",
    "        temp_value = array[index]\n",
    "\n",
    "        # position이라는 변수를 만들어 temp_value의 바로 왼쪽 인덱스에서 시작시킴\n",
    "        # position은 temp_value와 비교할 각 값을 나타냄\n",
    "        position = index - 1\n",
    "        # 패스스루를 통과하면서 position은 계속 왼쪽으로 움직이며 각 값을 temp_value와 비교함\n",
    "        \n",
    "        # 이어서 position이 0과 같거나 큰 동안 실행되는 안쪽 while 루프를 시작시킴 \n",
    "        while position >= 0:\n",
    "\n",
    "            # position에 있는 값이 temp_value보다 큰지 확인\n",
    "            if array[position] > temp_value:\n",
    "\n",
    "                # position에 있는 값이 더 크다면 왼쪽 값을 오른쪽으로 시프트함\n",
    "                array[position + 1] = array[position]\n",
    "\n",
    "                # 다음 왼쪽 값을 다음 while루프의 temp_value와 비교할 수 있도록 position 값을 1 감소 시킴 \n",
    "                position = position - 1\n",
    "    # position에 있는 값이 temp_value보다 같거나 작으면 temp_value를 공백에 삽입할 때이니 패스스루를 끝낼 수 있음\n",
    "            else:\n",
    "                break\n",
    "        # 각 패스스루의 마지막 단계는 temp_value를 공백에 삽입하는 것임\n",
    "        array[position + 1] = temp_value\n",
    "    return array"
   ]
  }
 ],
 "metadata": {
  "interpreter": {
   "hash": "aee8b7b246df8f9039afb4144a1f6fd8d2ca17a180786b69acc140d282b71a49"
  },
  "kernelspec": {
   "display_name": "Python 3.9.10 64-bit",
   "language": "python",
   "name": "python3"
  },
  "language_info": {
   "codemirror_mode": {
    "name": "ipython",
    "version": 3
   },
   "file_extension": ".py",
   "mimetype": "text/x-python",
   "name": "python",
   "nbconvert_exporter": "python",
   "pygments_lexer": "ipython3",
   "version": "3.9.10"
  },
  "orig_nbformat": 4
 },
 "nbformat": 4,
 "nbformat_minor": 2
}
