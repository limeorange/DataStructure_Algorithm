{
 "cells": [
  {
   "cell_type": "markdown",
   "id": "9d48c4b5",
   "metadata": {},
   "source": [
    "# 파이썬 리스트로 구현한 스택"
   ]
  },
  {
   "cell_type": "code",
   "execution_count": 1,
   "id": "a00f4428",
   "metadata": {
    "ExecuteTime": {
     "end_time": "2022-05-17T05:42:18.566079Z",
     "start_time": "2022-05-17T05:42:18.559460Z"
    }
   },
   "outputs": [],
   "source": [
    "def push(item):\n",
    "    stack.append(item)\n",
    "\n",
    "def peek():\n",
    "    if len(stack) != 0:\n",
    "        return stack[-1]\n",
    "\n",
    "def pop():\n",
    "    if len(stack) != 0:\n",
    "        item = stack.pop(-1)\n",
    "        return item"
   ]
  },
  {
   "cell_type": "code",
   "execution_count": 2,
   "id": "915da147",
   "metadata": {
    "ExecuteTime": {
     "end_time": "2022-05-17T05:45:56.850144Z",
     "start_time": "2022-05-17T05:45:56.845841Z"
    }
   },
   "outputs": [
    {
     "name": "stdout",
     "output_type": "stream",
     "text": [
      "사과 오렌지 체리 push 후 : ['apple', 'orange', 'cherry'] \t<- top\n",
      "top 항목: cherry\n",
      "배 push 후 : \t\t['apple', 'orange', 'cherry', 'pear'] \t<- top\n",
      "pop(), 포도 push 후 : \t['apple', 'orange', 'cherry', 'grape'] \t<- top\n"
     ]
    }
   ],
   "source": [
    "stack = []\n",
    "push('apple')\n",
    "push('orange')\n",
    "push('cherry')\n",
    "print('사과 오렌지 체리 push 후 : ', end = '')\n",
    "print(stack, '\\t<- top')\n",
    "print('top 항목: ', end = '')\n",
    "print(peek())\n",
    "push('pear')\n",
    "print('배 push 후 : \\t\\t', end = '')\n",
    "print(stack, '\\t<- top')\n",
    "pop()\n",
    "push('grape')\n",
    "print('pop(), 포도 push 후 : \\t', end = '')\n",
    "print(stack, '\\t<- top')"
   ]
  },
  {
   "cell_type": "markdown",
   "id": "8854ced1",
   "metadata": {},
   "source": [
    "# 단순연결리스트로 구현한 스택"
   ]
  },
  {
   "cell_type": "code",
   "execution_count": 4,
   "id": "b41ea987",
   "metadata": {
    "ExecuteTime": {
     "end_time": "2022-05-17T06:19:49.532739Z",
     "start_time": "2022-05-17T06:19:49.528696Z"
    }
   },
   "outputs": [],
   "source": [
    "class Node: # Node 클래스\n",
    "    def __init__(self, item, link):\n",
    "        self.item = item\n",
    "        self.next = link\n",
    "    \n",
    "def push(item):\n",
    "    global top\n",
    "    global size\n",
    "    top = Node(item, top)\n",
    "    size += 1\n",
    "\n",
    "def peek():\n",
    "    if size != 0:\n",
    "        return top.item\n",
    "    \n",
    "def pop():\n",
    "    global top\n",
    "    global size\n",
    "    if size != 0:\n",
    "        top_item = top.item\n",
    "        top = top.next\n",
    "        size -= 1\n",
    "        return top_item\n",
    "\n",
    "def print_stack():\n",
    "    print('top -> \\t', end = '')\n",
    "    p = top\n",
    "    while p:\n",
    "        if p.next != None:\n",
    "            print(p.item, '-> ', end = '')\n",
    "        else:\n",
    "            print(p.item, end = '')\n",
    "        p = p.next\n",
    "    print()"
   ]
  },
  {
   "cell_type": "code",
   "execution_count": 6,
   "id": "e20774aa",
   "metadata": {
    "ExecuteTime": {
     "end_time": "2022-05-17T06:23:20.259774Z",
     "start_time": "2022-05-17T06:23:20.254855Z"
    }
   },
   "outputs": [
    {
     "name": "stdout",
     "output_type": "stream",
     "text": [
      "사과, 오렌지, 체리 push 후 : \ttop -> \tcherry -> orange -> apple\n",
      "top 항목 : cherry\n",
      "배 push 후 : \t\t\ttop -> \tpear -> cherry -> orange -> apple\n",
      "pop(), 포도 push 후 : \t\ttop -> \tgrape -> cherry -> orange -> apple\n"
     ]
    }
   ],
   "source": [
    "top = None\n",
    "size = 0\n",
    "push('apple')\n",
    "push('orange')\n",
    "push('cherry')\n",
    "print('사과, 오렌지, 체리 push 후 : \\t', end = '')\n",
    "print_stack()\n",
    "\n",
    "print('top 항목 : ', end = '')\n",
    "print(peek())\n",
    "\n",
    "push('pear')\n",
    "print('배 push 후 : \\t\\t\\t', end = '')\n",
    "print_stack()\n",
    "\n",
    "pop()\n",
    "push('grape')\n",
    "print('pop(), 포도 push 후 : \\t\\t', end = '')\n",
    "print_stack()"
   ]
  },
  {
   "cell_type": "markdown",
   "id": "014ba9ef",
   "metadata": {},
   "source": [
    "# 파이썬 리스트로 구현한 큐"
   ]
  },
  {
   "cell_type": "code",
   "execution_count": 7,
   "id": "33211935",
   "metadata": {
    "ExecuteTime": {
     "end_time": "2022-05-17T06:33:06.650284Z",
     "start_time": "2022-05-17T06:33:06.647024Z"
    }
   },
   "outputs": [],
   "source": [
    "def add(item):\n",
    "    q.append(item)\n",
    "    \n",
    "def remove():\n",
    "    if len(q) != 0:\n",
    "        item = q.pop(0)\n",
    "        return item\n",
    "\n",
    "def print_q():\n",
    "    print('front -> ', end = '')\n",
    "    for i in range(len(q)):\n",
    "        print('{!s:<8}'.format(q[i]), end = '')\n",
    "    print(' <- rear')"
   ]
  },
  {
   "cell_type": "code",
   "execution_count": 8,
   "id": "c25696d1",
   "metadata": {
    "ExecuteTime": {
     "end_time": "2022-05-17T06:41:39.121043Z",
     "start_time": "2022-05-17T06:41:39.117000Z"
    }
   },
   "outputs": [
    {
     "name": "stdout",
     "output_type": "stream",
     "text": [
      "사과, 오렌지, 체리, 배 삽입 후 : \tfront -> apple   orange  cherry  pear     <- rear\n",
      "remove한 후 : \t\tfront -> orange  cherry  pear     <- rear\n",
      "remove한 후 : \t\tfront -> cherry  pear     <- rear\n",
      "포도 삽입 후 : \t\tfront -> cherry  pear    grape    <- rear\n"
     ]
    }
   ],
   "source": [
    "q = []\n",
    "add('apple')\n",
    "add('orange')\n",
    "add('cherry')\n",
    "add('pear')\n",
    "print('사과, 오렌지, 체리, 배 삽입 후 : \\t', end = '')\n",
    "print_q()\n",
    "\n",
    "remove()\n",
    "print('remove한 후 : \\t\\t', end = '')\n",
    "print_q()\n",
    "\n",
    "remove()\n",
    "print('remove한 후 : \\t\\t', end = '')\n",
    "print_q()\n",
    "\n",
    "add('grape')\n",
    "print('포도 삽입 후 : \\t\\t', end = '')\n",
    "print_q()"
   ]
  },
  {
   "cell_type": "markdown",
   "id": "64d08c80",
   "metadata": {},
   "source": [
    "# 단순연결리스트로 구현한 큐"
   ]
  },
  {
   "cell_type": "code",
   "execution_count": 10,
   "id": "06e5c5bd",
   "metadata": {
    "ExecuteTime": {
     "end_time": "2022-05-17T06:48:27.000003Z",
     "start_time": "2022-05-17T06:48:26.994772Z"
    }
   },
   "outputs": [],
   "source": [
    "class Node:\n",
    "    def __init__(self, item, n):\n",
    "        self.item = item\n",
    "        self.next = n\n",
    "\n",
    "def add(item):\n",
    "    global size\n",
    "    global front\n",
    "    global rear\n",
    "    new_node = Node(item, None)\n",
    "    if size == 0:\n",
    "        front = new_node\n",
    "    else:\n",
    "        rear.next = new_node\n",
    "    rear = new_node\n",
    "    size += 1\n",
    "    \n",
    "def remove():\n",
    "    global size\n",
    "    global front\n",
    "    global rear\n",
    "    if size != 0:\n",
    "        fitem = front.item\n",
    "        front = front.next\n",
    "        size -= 1\n",
    "        if size == 0:\n",
    "            rear = None\n",
    "        return fitem\n",
    "\n",
    "def print_q():\n",
    "    p = front\n",
    "    print('front: ', end = '')\n",
    "    while p:\n",
    "        if p.next != None:\n",
    "            print(p.item, '->    ', end = '')\n",
    "        else:\n",
    "            print(p.item, end = '')\n",
    "        p = p.next\n",
    "    print('  : rear')\n",
    "\n",
    "front = None\n",
    "rear = None\n",
    "size = 0"
   ]
  },
  {
   "cell_type": "code",
   "execution_count": 11,
   "id": "8447bbc1",
   "metadata": {
    "ExecuteTime": {
     "end_time": "2022-05-17T06:48:27.006027Z",
     "start_time": "2022-05-17T06:48:27.002039Z"
    }
   },
   "outputs": [
    {
     "name": "stdout",
     "output_type": "stream",
     "text": [
      "사과, 오렌지, 체리, 배 삽입 후 : \tfront: apple ->    orange ->    cherry ->    pear  : rear\n",
      "remove한 후 : \t\tfront: orange ->    cherry ->    pear  : rear\n",
      "remove한 후 : \t\tfront: cherry ->    pear  : rear\n",
      "포도 삽입 후 : \t\tfront: cherry ->    pear ->    grape  : rear\n"
     ]
    }
   ],
   "source": [
    "q = []\n",
    "add('apple')\n",
    "add('orange')\n",
    "add('cherry')\n",
    "add('pear')\n",
    "print('사과, 오렌지, 체리, 배 삽입 후 : \\t', end = '')\n",
    "print_q()\n",
    "\n",
    "remove()\n",
    "print('remove한 후 : \\t\\t', end = '')\n",
    "print_q()\n",
    "\n",
    "remove()\n",
    "print('remove한 후 : \\t\\t', end = '')\n",
    "print_q()\n",
    "\n",
    "add('grape')\n",
    "print('포도 삽입 후 : \\t\\t', end = '')\n",
    "print_q()"
   ]
  },
  {
   "cell_type": "markdown",
   "id": "e6c53000",
   "metadata": {},
   "source": [
    "# 데크"
   ]
  },
  {
   "cell_type": "code",
   "execution_count": 12,
   "id": "4d238045",
   "metadata": {
    "ExecuteTime": {
     "end_time": "2022-05-17T06:51:03.631161Z",
     "start_time": "2022-05-17T06:51:03.627208Z"
    }
   },
   "outputs": [
    {
     "name": "stdout",
     "output_type": "stream",
     "text": [
      "DATA\n",
      "deque(['k', 'd', 'a', 't', 'a', 'r'])\n",
      "a\n",
      "False\n",
      "deque(['p', 'y', 't', 'h', 'o', 'n', 'd', 'a', 't', 'a', 's', 't', 'r', 'u', 'c', 't', 'u', 'r', 'e'])\n"
     ]
    }
   ],
   "source": [
    "from collections import deque\n",
    "\n",
    "dq = deque('data')\n",
    "for elem in dq:\n",
    "    print(elem.upper(), end = '')\n",
    "print()\n",
    "\n",
    "dq.append('r')\n",
    "dq.appendleft('k')\n",
    "print(dq)\n",
    "\n",
    "dq.pop()\n",
    "dq.popleft()\n",
    "print(dq[-1])\n",
    "print('x' in dq)\n",
    "\n",
    "dq.extend('structure')\n",
    "dq.extendleft(reversed('python'))\n",
    "print(dq)"
   ]
  }
 ],
 "metadata": {
  "kernelspec": {
   "display_name": "Python 3 (ipykernel)",
   "language": "python",
   "name": "python3"
  },
  "language_info": {
   "codemirror_mode": {
    "name": "ipython",
    "version": 3
   },
   "file_extension": ".py",
   "mimetype": "text/x-python",
   "name": "python",
   "nbconvert_exporter": "python",
   "pygments_lexer": "ipython3",
   "version": "3.9.7"
  },
  "toc": {
   "base_numbering": 1,
   "nav_menu": {},
   "number_sections": true,
   "sideBar": true,
   "skip_h1_title": false,
   "title_cell": "Table of Contents",
   "title_sidebar": "Contents",
   "toc_cell": false,
   "toc_position": {},
   "toc_section_display": true,
   "toc_window_display": false
  }
 },
 "nbformat": 4,
 "nbformat_minor": 5
}
