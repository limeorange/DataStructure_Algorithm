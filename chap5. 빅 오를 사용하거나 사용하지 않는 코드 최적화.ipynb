{
 "cells": [
  {
   "cell_type": "code",
   "execution_count": 1,
   "metadata": {},
   "outputs": [],
   "source": [
    "# 결과 확인을 용이하게 하기 위한 코드\n",
    "from IPython.core.interactiveshell import InteractiveShell\n",
    "InteractiveShell.ast_node_interactivity = 'all'"
   ]
  },
  {
   "cell_type": "markdown",
   "metadata": {},
   "source": [
    "# 5.2 선택 정렬 실제로 해보기"
   ]
  },
  {
   "cell_type": "markdown",
   "metadata": {},
   "source": [
    "## 5.2.1 선택 정렬 구현"
   ]
  },
  {
   "cell_type": "code",
   "execution_count": 10,
   "metadata": {},
   "outputs": [],
   "source": [
    "def selection_sort(arr):\n",
    "\n",
    "    # 마지막 인덱스의 값을 보기 전에 이미 배열이 완전히 정렬되므로 마지막 값은 보지 않아도 됨\n",
    "    for i in range(len(arr)-1): # 0,1,2,3\n",
    "\n",
    "        # 현재까지의 최솟값이 들어 있는 인덱스 저장\n",
    "        min_idx = i\n",
    "\n",
    "        # 각 패스스루에서는 배열의 나머지 값들을 확인해 현재 최솟값보다 더 작은 값이 있는지 확인\n",
    "        for j in range(i+1, len(arr)):  # [1,2,3,4] [2,3,4] [3,4] [4]\n",
    "            if arr[j] < arr[min_idx]:\n",
    "                # 더 작은 값이 있다면 최솟값 인덱스 갱신\n",
    "                min_idx = j\n",
    "        \n",
    "        # 패스스루를 시작했던 인덱스 i에 있는 값과 최솟값을 교환\n",
    "        arr[i], arr[min_idx] = arr[min_idx], arr[i]\n",
    "    \n",
    "    return arr"
   ]
  },
  {
   "cell_type": "code",
   "execution_count": 11,
   "metadata": {},
   "outputs": [
    {
     "data": {
      "text/plain": [
       "[1, 2, 3, 4, 7]"
      ]
     },
     "execution_count": 11,
     "metadata": {},
     "output_type": "execute_result"
    }
   ],
   "source": [
    "selection_sort([4,2,7,1,3])"
   ]
  },
  {
   "cell_type": "markdown",
   "metadata": {},
   "source": [
    "## 5.5.1 실제 예제"
   ]
  },
  {
   "cell_type": "code",
   "execution_count": 12,
   "metadata": {},
   "outputs": [],
   "source": [
    "# O(N)\n",
    "def print_numbers_version_one(upperLimit):\n",
    "    number = 2\n",
    "\n",
    "    while number <= upperLimit:\n",
    "\n",
    "        # number가 짝수면 출력\n",
    "        if number % 2 == 0:\n",
    "            print(number)\n",
    "        number += 1\n",
    "\n",
    "# O(N/2)\n",
    "def print_numbers_version_two(upperLimit):\n",
    "    number = 2\n",
    "\n",
    "    while number <= upperLimit:\n",
    "        print(number)\n",
    "\n",
    "        # 정의에 따라 다음 짝수로 2씩 증가시키기\n",
    "        number += 2"
   ]
  }
 ],
 "metadata": {
  "interpreter": {
   "hash": "aee8b7b246df8f9039afb4144a1f6fd8d2ca17a180786b69acc140d282b71a49"
  },
  "kernelspec": {
   "display_name": "Python 3.9.10 64-bit",
   "language": "python",
   "name": "python3"
  },
  "language_info": {
   "codemirror_mode": {
    "name": "ipython",
    "version": 3
   },
   "file_extension": ".py",
   "mimetype": "text/x-python",
   "name": "python",
   "nbconvert_exporter": "python",
   "pygments_lexer": "ipython3",
   "version": "3.9.10"
  },
  "orig_nbformat": 4
 },
 "nbformat": 4,
 "nbformat_minor": 2
}
