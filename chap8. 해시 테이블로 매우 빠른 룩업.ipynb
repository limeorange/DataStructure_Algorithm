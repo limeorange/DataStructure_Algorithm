{
 "cells": [
  {
   "cell_type": "code",
   "execution_count": 26,
   "metadata": {},
   "outputs": [],
   "source": [
    "# 결과 확인을 용이하게 하기 위한 코드\n",
    "from IPython.core.interactiveshell import InteractiveShell\n",
    "InteractiveShell.ast_node_interactivity = 'all'\n",
    "\n",
    "import numpy as np"
   ]
  },
  {
   "cell_type": "markdown",
   "metadata": {},
   "source": [
    "# 8.7 해시 테이블로 데이터 조직"
   ]
  },
  {
   "cell_type": "code",
   "execution_count": 14,
   "metadata": {},
   "outputs": [],
   "source": [
    "STATUS_CODES = {200:'OK', 301:'Moved Permanently', 401:'Unauthorized', 404:'Not Found', 500:'Internal Server Error'}\n",
    "\n",
    "def status_code_meaning(number):\n",
    "    return STATUS_CODE[number]"
   ]
  },
  {
   "cell_type": "code",
   "execution_count": 15,
   "metadata": {},
   "outputs": [
    {
     "data": {
      "text/plain": [
       "[{'Name': 'Fido', 'Breed': 'Pug', 'Age': 3, 'Gender': 'Male'},\n",
       " {'Name': 'Lady', 'Breed': 'Poodle', 'Age': 6, 'Gender': 'Female'},\n",
       " {'Name': 'Spot', 'Breed': 'Dalmatian', 'Age': 2, 'Gender': 'Male'}]"
      ]
     },
     "execution_count": 15,
     "metadata": {},
     "output_type": "execute_result"
    }
   ],
   "source": [
    "[{'Name':'Fido', 'Breed':'Pug', 'Age':3, 'Gender':'Male'},\n",
    " {'Name':'Lady', 'Breed':'Poodle', 'Age':6, 'Gender':'Female'},\n",
    " {'Name':'Spot', 'Breed':'Dalmatian', 'Age':2, 'Gender':'Male'}]"
   ]
  },
  {
   "cell_type": "markdown",
   "metadata": {},
   "source": [
    "# 8.8 해시 테이블로 속도 올리기"
   ]
  },
  {
   "cell_type": "code",
   "execution_count": 16,
   "metadata": {},
   "outputs": [],
   "source": [
    "hash_table = {61:True, 30:True, 91:True, 11:True, 54:True, 38:True, 72:True}"
   ]
  },
  {
   "cell_type": "markdown",
   "metadata": {},
   "source": [
    "## 8.8.1 배열 부분 집합 "
   ]
  },
  {
   "cell_type": "code",
   "execution_count": 17,
   "metadata": {},
   "outputs": [],
   "source": [
    "def isSubset(array1, array2):\n",
    "    \n",
    "    # 어느 배열이 더 작은지 알아냄\n",
    "    if len(array1) > len(array2):\n",
    "        largerArray = array1\n",
    "        smallerArray = array2\n",
    "    else:\n",
    "        largerArray = array2\n",
    "        smallerArray = array1\n",
    "    \n",
    "    # [1] 작은 배열을 순회함\n",
    "    for i in range(len(smallerArray)):\n",
    "\n",
    "        # 작은 배열의 현재 값이 우선은 큰 배열에 없다고 임시로 가정\n",
    "        foundMatch = False\n",
    "\n",
    "        # [2] 작은 배열의 각 값에 대해 큰 배열을 순회\n",
    "        for j in range(len(largerArray)):\n",
    "\n",
    "            # 두 값이 같으면 작은 배열의 현재 값이 큰 배열에 있다는 뜻임\n",
    "            if (smallerArray[i] == largerArray[j]):\n",
    "                foundMatch = True\n",
    "                break\n",
    "        \n",
    "        #  작은 배열의 현재 값이 큰 배열에 없으면 false를 반환\n",
    "        if (foundMatch == False): # [2]를 도는 동안 True로 갱신이 되지 않았다는 뜻(작은 배열의 값이 큰 배열의 값과 겹치지 않음)\n",
    "            return False\n",
    "\n",
    "    # 루프 끝에 도달하면 작은 배열의 모든 값이 큰 배열에 있다는 뜻임 \n",
    "    # [2]를 돌면서 foundMatch가 모두 True값을 받은 경우임\n",
    "    return True\n"
   ]
  },
  {
   "cell_type": "code",
   "execution_count": 18,
   "metadata": {},
   "outputs": [],
   "source": [
    "def isSubset(array1, array2):\n",
    "    # hashTable 변수에 빈 해시 테이블을 생성\n",
    "    hashTable = {}\n",
    "\n",
    "    # 어느 배열이 더 작은지 알아냄\n",
    "    if len(array1) > len(array2):\n",
    "        largerArray = array1\n",
    "        smallerArray = array2\n",
    "    else:\n",
    "        largerArray = array2\n",
    "        smallerArray = array1\n",
    "    \n",
    "    # largerArray의 모든 항목을 hashTable에 저장함\n",
    "    # 이 해시 테이블은 항목을 O(1)만에 룩업하게 해주는 인덱스가 됨\n",
    "    for value in largerArray:\n",
    "        hashTable[value] = True\n",
    "    \n",
    "    # smallerArray의 각 항목을 순회하며 hashTable에 없는 항목이면 False 반환\n",
    "    for value2 in smallerArray:\n",
    "        if value2 not in hashTable:\n",
    "            return False\n",
    "    \n",
    "    # False를 반환하지 않고 코드에서 여기까지 왔다면\n",
    "    # smallerArray의 모든 항목이 largerArray에 들어 있다는 뜻임\n",
    "    return True"
   ]
  },
  {
   "cell_type": "markdown",
   "metadata": {},
   "source": [
    "# 8.10 연습 문제"
   ]
  },
  {
   "cell_type": "markdown",
   "metadata": {},
   "source": [
    "## 1번\n",
    "- 두 배열의 교집합을 반환하는 함수를 작성하라. 교집합이란 두 배열에 동시에 들어 있는 값을 포함하는 새로운 배열이다.\n",
    "- 예를 들어 [1, 2, 3, 4, 5]와 [0, 2, 4, 6, 8]의 교집합은 [2, 4]다. 함수의 복잡도는 O(N)이어야 한다."
   ]
  },
  {
   "cell_type": "code",
   "execution_count": 19,
   "metadata": {},
   "outputs": [],
   "source": [
    "# solution\n",
    "def getIntersection(array1, array2):\n",
    "  intersection = []\n",
    "  hashTable = {}\n",
    "\n",
    "  for value in array1:\n",
    "    hashTable[value] = True\n",
    "\n",
    "  for value in array2:\n",
    "    if hashTable.get(value):\n",
    "      intersection.append(value)\n",
    "\n",
    "  return intersection"
   ]
  },
  {
   "cell_type": "code",
   "execution_count": 20,
   "metadata": {},
   "outputs": [],
   "source": [
    "# my\n",
    "def find_intersection(array1, array2):\n",
    "    hash_table = {}\n",
    "\n",
    "    if len(array1) > len(array2):\n",
    "        large_arr = array1\n",
    "        small_arr = array2\n",
    "    else:\n",
    "        large_arr = array2\n",
    "        small_arr = array1\n",
    "    \n",
    "    for value in large_arr:\n",
    "        hash_table[value] = True\n",
    "    \n",
    "    intersection = []\n",
    "    for value2 in small_arr:\n",
    "        if value2 in hash_table:\n",
    "            intersection.append(value2)\n",
    "    \n",
    "    return intersection"
   ]
  },
  {
   "cell_type": "code",
   "execution_count": 21,
   "metadata": {},
   "outputs": [],
   "source": [
    "# my - 수정\n",
    "# 어차피 두 배열에 모두 있는 중복 값을 찾아주는 거라서 \n",
    "# large_arr, small_arr를 구분해줄 필요 없음\n",
    "\n",
    "def find_intersection(array1, array2):\n",
    "    hash_table = {}\n",
    "   \n",
    "    for value in array1:\n",
    "        hash_table[value] = True\n",
    "    \n",
    "    intersection = []\n",
    "    for value2 in array2:\n",
    "        if value2 in hash_table:\n",
    "            intersection.append(value2)\n",
    "    \n",
    "    return intersection"
   ]
  },
  {
   "cell_type": "code",
   "execution_count": 22,
   "metadata": {},
   "outputs": [
    {
     "data": {
      "text/plain": [
       "[2, 4]"
      ]
     },
     "execution_count": 22,
     "metadata": {},
     "output_type": "execute_result"
    }
   ],
   "source": [
    "a1 = [1, 2, 3, 4, 5]\n",
    "a2 = [0, 2, 4, 6, 8]\n",
    "find_intersection(a1, a2)"
   ]
  },
  {
   "cell_type": "markdown",
   "metadata": {},
   "source": [
    "## 2번\n",
    "- 문자열 배열을 받아 첫 번째 중복 값을 찾아 반환하는 함수를 작성하라.\n",
    "- 예를 들어 배열이 ['a', 'b', 'c', 'd', 'e', 'f']면 함수는 배열에서 중복인 'c'를 반환해야 한다(배열에 반드시 하나 이상의 중복 쌍이 있다고 가정해도 된다).\n",
    "- 단 함수의 효율성은 O(N)이어야 한다."
   ]
  },
  {
   "cell_type": "code",
   "execution_count": null,
   "metadata": {},
   "outputs": [],
   "source": [
    "# solution\n",
    "def findDuplicate(array):\n",
    "  hashTable = {}\n",
    "\n",
    "  for value in array:\n",
    "    if hashTable.get(value):\n",
    "      return value\n",
    "    else:\n",
    "      hashTable[value] = True\n",
    "\n",
    "  return None"
   ]
  },
  {
   "cell_type": "code",
   "execution_count": 23,
   "metadata": {},
   "outputs": [],
   "source": [
    "# my\n",
    "def duplicated_value(array):\n",
    "    hash_table = {}\n",
    "\n",
    "    for value in array:\n",
    "        if value not in hash_table:\n",
    "            hash_table[value] = True\n",
    "        else:\n",
    "            return value    "
   ]
  },
  {
   "cell_type": "code",
   "execution_count": 27,
   "metadata": {},
   "outputs": [
    {
     "data": {
      "text/plain": [
       "'c'"
      ]
     },
     "execution_count": 27,
     "metadata": {},
     "output_type": "execute_result"
    }
   ],
   "source": [
    "duplicated_value(['a','b','c','d','e','c','b'])\n",
    "duplicated_value(['a','b','c','d','e'])"
   ]
  },
  {
   "cell_type": "markdown",
   "metadata": {},
   "source": [
    "## 3번\n",
    "- 알파벳 문자를 한 글자만 제외하고 모두 포함하는 문자열을 받아 빠진 문자 하나를 반환하는 함수를 작성하라.\n",
    "- 예를 들어 문자열 'the quick brown box jumps over a lazy dog'은 문자 'f'를 제외한 모든 알파벳 문자를 포함한다.\n",
    "- 함수의 시간 복잡도는 O(N)이어야 한다."
   ]
  },
  {
   "cell_type": "code",
   "execution_count": 49,
   "metadata": {},
   "outputs": [
    {
     "data": {
      "text/plain": [
       "'f'"
      ]
     },
     "execution_count": 49,
     "metadata": {},
     "output_type": "execute_result"
    }
   ],
   "source": [
    "# solution\n",
    "def findMissingLetter(string):\n",
    "  # Store all encountered letters in hash table:\n",
    "  hashTable = {}\n",
    "  for char in string:\n",
    "    hashTable[char] = True\n",
    "\n",
    "  alphabet = \"abcdefghijklmnopqrstuvwxyz\"\n",
    "  for char in alphabet:\n",
    "    if not hashTable.get(char):\n",
    "      return char\n",
    "\n",
    "  return None\n",
    "\n",
    "sentence = 'the quick brown box jumps over a lazy dog'\n",
    "findMissingLetter(sentence)\n"
   ]
  },
  {
   "cell_type": "code",
   "execution_count": 50,
   "metadata": {},
   "outputs": [
    {
     "data": {
      "text/plain": [
       "'f'"
      ]
     },
     "execution_count": 50,
     "metadata": {},
     "output_type": "execute_result"
    }
   ],
   "source": [
    "# my - 수정 \n",
    "def missing_value(sentence):\n",
    "\n",
    "    dic = {}\n",
    "    # [1] 주어진 문장에 대한 사전을 먼저 만들어야 함\n",
    "    for char in sentence:\n",
    "        dic[char] = True\n",
    "\n",
    "    # [2] 모든 알파벳을 순회하면서 문장에 나온 알파벳이 없는 경우 해당 알파벳을 return\n",
    "    alphabet = 'abcdefghijklmnopqrstuvwxyz'\n",
    "    for char in alphabet:\n",
    "        if char not in dic:\n",
    "            return char\n",
    "    \n",
    "    return None\n",
    "\n",
    "sentence = 'the quick brown box jumps over a lazy dog'\n",
    "missing_value(sentence)"
   ]
  },
  {
   "cell_type": "code",
   "execution_count": 51,
   "metadata": {},
   "outputs": [],
   "source": [
    "# my - 결과가 제대로 안나옴..\n",
    "def missing_value(sentence):\n",
    "    alphabet = 'abcdefghijklmnopqrstuvwxyz'\n",
    "    dic = {}\n",
    "    sentence = sentence.replace(' ','')\n",
    "\n",
    "    for i in alphabet:\n",
    "        dic[i] = True\n",
    "\n",
    "    for j in sentence:\n",
    "        if j in dic:\n",
    "            pass\n",
    "        else:\n",
    "            return j\n",
    "\n",
    "sentence = 'the quick brown box jumps over a lazy dog'\n",
    "missing_value(sentence)"
   ]
  },
  {
   "cell_type": "markdown",
   "metadata": {},
   "source": [
    "## 4번\n",
    "- 문자열에서 첫 번째 중복되지 않는 문자를 반환하는 함수를 작성하라.\n",
    "- 예를 들어 문자열 'minimum'에는 한 번만 등장하는 문자가 'n'과 'u' 두 개인데 먼저 나오는 문자인 'n'을 반환해야 한다.\n",
    "- 함수의 효율성은 O(N)이어야 한다."
   ]
  },
  {
   "cell_type": "markdown",
   "metadata": {},
   "source": []
  }
 ],
 "metadata": {
  "interpreter": {
   "hash": "aee8b7b246df8f9039afb4144a1f6fd8d2ca17a180786b69acc140d282b71a49"
  },
  "kernelspec": {
   "display_name": "Python 3.9.10 64-bit",
   "language": "python",
   "name": "python3"
  },
  "language_info": {
   "codemirror_mode": {
    "name": "ipython",
    "version": 3
   },
   "file_extension": ".py",
   "mimetype": "text/x-python",
   "name": "python",
   "nbconvert_exporter": "python",
   "pygments_lexer": "ipython3",
   "version": "3.9.10"
  },
  "orig_nbformat": 4
 },
 "nbformat": 4,
 "nbformat_minor": 2
}
