{
 "cells": [
  {
   "cell_type": "code",
   "execution_count": 1,
   "metadata": {},
   "outputs": [],
   "source": [
    "# 결과 확인을 용이하게 하기 위한 코드\n",
    "from IPython.core.interactiveshell import InteractiveShell\n",
    "InteractiveShell.ast_node_interactivity = 'all'\n",
    "\n",
    "import numpy as np"
   ]
  },
  {
   "cell_type": "markdown",
   "metadata": {},
   "source": [
    "# 8.7 해시 테이블로 데이터 조직"
   ]
  },
  {
   "cell_type": "code",
   "execution_count": 1,
   "metadata": {},
   "outputs": [],
   "source": [
    "STATUS_CODES = {200:'OK', 301:'Moved Permanently', 401:'Unauthorized', 404:'Not Found', 500:'Internal Server Error'}\n",
    "\n",
    "def status_code_meaning(number):\n",
    "    return STATUS_CODE[number]"
   ]
  },
  {
   "cell_type": "code",
   "execution_count": 2,
   "metadata": {},
   "outputs": [
    {
     "data": {
      "text/plain": [
       "[{'Name': 'Fido', 'Breed': 'Pug', 'Age': 3, 'Gender': 'Male'},\n",
       " {'Name': 'Lady', 'Breed': 'Poodle', 'Age': 6, 'Gender': 'Female'},\n",
       " {'Name': 'Spot', 'Breed': 'Dalmatian', 'Age': 2, 'Gender': 'Male'}]"
      ]
     },
     "execution_count": 2,
     "metadata": {},
     "output_type": "execute_result"
    }
   ],
   "source": [
    "[{'Name':'Fido', 'Breed':'Pug', 'Age':3, 'Gender':'Male'},\n",
    " {'Name':'Lady', 'Breed':'Poodle', 'Age':6, 'Gender':'Female'},\n",
    " {'Name':'Spot', 'Breed':'Dalmatian', 'Age':2, 'Gender':'Male'}]"
   ]
  },
  {
   "cell_type": "markdown",
   "metadata": {},
   "source": [
    "# 8.8 해시 테이블로 속도 올리기"
   ]
  },
  {
   "cell_type": "code",
   "execution_count": null,
   "metadata": {},
   "outputs": [],
   "source": [
    "hash_table = {61:True, 30:True, 91:True, 11:True, 54:True, 38:True, 72:True}"
   ]
  }
 ],
 "metadata": {
  "interpreter": {
   "hash": "aee8b7b246df8f9039afb4144a1f6fd8d2ca17a180786b69acc140d282b71a49"
  },
  "kernelspec": {
   "display_name": "Python 3.9.10 64-bit",
   "language": "python",
   "name": "python3"
  },
  "language_info": {
   "codemirror_mode": {
    "name": "ipython",
    "version": 3
   },
   "file_extension": ".py",
   "mimetype": "text/x-python",
   "name": "python",
   "nbconvert_exporter": "python",
   "pygments_lexer": "ipython3",
   "version": "3.9.10"
  },
  "orig_nbformat": 4
 },
 "nbformat": 4,
 "nbformat_minor": 2
}
