{
 "cells": [
  {
   "cell_type": "code",
   "execution_count": 1,
   "metadata": {},
   "outputs": [],
   "source": [
    "# 결과 확인을 용이하게 하기 위한 코드\n",
    "from IPython.core.interactiveshell import InteractiveShell\n",
    "InteractiveShell.ast_node_interactivity = 'all'\n",
    "\n",
    "import numpy as np"
   ]
  },
  {
   "cell_type": "markdown",
   "metadata": {},
   "source": [
    "# 8.7 해시 테이블로 데이터 조직"
   ]
  },
  {
   "cell_type": "code",
   "execution_count": 1,
   "metadata": {},
   "outputs": [],
   "source": [
    "STATUS_CODES = {200:'OK', 301:'Moved Permanently', 401:'Unauthorized', 404:'Not Found', 500:'Internal Server Error'}\n",
    "\n",
    "def status_code_meaning(number):\n",
    "    return STATUS_CODE[number]"
   ]
  },
  {
   "cell_type": "code",
   "execution_count": 2,
   "metadata": {},
   "outputs": [
    {
     "data": {
      "text/plain": [
       "[{'Name': 'Fido', 'Breed': 'Pug', 'Age': 3, 'Gender': 'Male'},\n",
       " {'Name': 'Lady', 'Breed': 'Poodle', 'Age': 6, 'Gender': 'Female'},\n",
       " {'Name': 'Spot', 'Breed': 'Dalmatian', 'Age': 2, 'Gender': 'Male'}]"
      ]
     },
     "execution_count": 2,
     "metadata": {},
     "output_type": "execute_result"
    }
   ],
   "source": [
    "[{'Name':'Fido', 'Breed':'Pug', 'Age':3, 'Gender':'Male'},\n",
    " {'Name':'Lady', 'Breed':'Poodle', 'Age':6, 'Gender':'Female'},\n",
    " {'Name':'Spot', 'Breed':'Dalmatian', 'Age':2, 'Gender':'Male'}]"
   ]
  },
  {
   "cell_type": "markdown",
   "metadata": {},
   "source": [
    "# 8.8 해시 테이블로 속도 올리기"
   ]
  },
  {
   "cell_type": "code",
   "execution_count": null,
   "metadata": {},
   "outputs": [],
   "source": [
    "hash_table = {61:True, 30:True, 91:True, 11:True, 54:True, 38:True, 72:True}"
   ]
  },
  {
   "cell_type": "markdown",
   "metadata": {},
   "source": [
    "## 8.8.1 배열 부분 집합 "
   ]
  },
  {
   "cell_type": "code",
   "execution_count": null,
   "metadata": {},
   "outputs": [],
   "source": [
    "def isSubset(array1, array2):\n",
    "    \n",
    "    # 어느 배열이 더 작은지 알아냄\n",
    "    if len(array1) > len(array2):\n",
    "        largerArray = array1\n",
    "        smallerArray = array2\n",
    "    else:\n",
    "        largerArray = array2\n",
    "        smallerArray = array1\n",
    "    \n",
    "    # [1] 작은 배열을 순회함\n",
    "    for i in range(len(smallerArray)):\n",
    "\n",
    "        # 작은 배열의 현재 값이 우선은 큰 배열에 없다고 임시로 가정\n",
    "        foundMatch = False\n",
    "\n",
    "        # [2] 작은 배열의 각 값에 대해 큰 배열을 순회\n",
    "        for j in range(len(largerArray)):\n",
    "\n",
    "            # 두 값이 같으면 작은 배열의 현재 값이 큰 배열에 있다는 뜻임\n",
    "            if (smallerArray[i] == largerArray[j]):\n",
    "                foundMatch = True\n",
    "                break\n",
    "        \n",
    "        #  작은 배열의 현재 값이 큰 배열에 없으면 false를 반환\n",
    "        if (foundMatch == False): # [2]를 도는 동안 True로 갱신이 되지 않았다는 뜻(작은 배열의 값이 큰 배열의 값과 겹치지 않음)\n",
    "            return False\n",
    "\n",
    "    # 루프 끝에 도달하면 작은 배열의 모든 값이 큰 배열에 있다는 뜻임 \n",
    "    # [2]를 돌면서 foundMatch가 모두 True값을 받은 경우임\n",
    "    return True\n"
   ]
  },
  {
   "cell_type": "code",
   "execution_count": null,
   "metadata": {},
   "outputs": [],
   "source": [
    "def isSubset(array1, array2):\n",
    "    # hashTable 변수에 빈 해시 테이블을 생성\n",
    "    hashTable = {}\n",
    "\n",
    "    # 어느 배열이 더 작은지 알아냄\n",
    "    if len(array1) > len(array2):\n",
    "        largerArray = array1\n",
    "        smallerArray = array2\n",
    "    else:\n",
    "        largerArray = array2\n",
    "        smallerArray = array1\n",
    "    \n",
    "    # largerArray의 모든 항목을 hashTable에 저장함\n",
    "    # 이 해시 테이블은 항목을 O(1)만에 룩업하게 해주는 인덱스가 됨\n",
    "    for value in largerArray:\n",
    "        hashTable[value] = True\n",
    "    \n",
    "    # smallerArray의 각 항목을 순회하며 hashTable에 없는 항목이면 False 반환\n",
    "    for value2 in smallerArray:\n",
    "        if value2 not in hashTable:\n",
    "            return False\n",
    "    \n",
    "    # False를 반환하지 않고 코드에서 여기까지 왔다면\n",
    "    # smallerArray의 모든 항목이 largerArray에 들어 있다는 뜻임\n",
    "    return True"
   ]
  }
 ],
 "metadata": {
  "interpreter": {
   "hash": "aee8b7b246df8f9039afb4144a1f6fd8d2ca17a180786b69acc140d282b71a49"
  },
  "kernelspec": {
   "display_name": "Python 3.9.10 64-bit",
   "language": "python",
   "name": "python3"
  },
  "language_info": {
   "codemirror_mode": {
    "name": "ipython",
    "version": 3
   },
   "file_extension": ".py",
   "mimetype": "text/x-python",
   "name": "python",
   "nbconvert_exporter": "python",
   "pygments_lexer": "ipython3",
   "version": "3.9.10"
  },
  "orig_nbformat": 4
 },
 "nbformat": 4,
 "nbformat_minor": 2
}
