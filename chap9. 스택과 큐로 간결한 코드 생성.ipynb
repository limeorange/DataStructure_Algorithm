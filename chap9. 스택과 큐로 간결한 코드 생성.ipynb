{
 "cells": [
  {
   "cell_type": "markdown",
   "metadata": {},
   "source": [
    "# 9.2 추상 데이터 타입"
   ]
  },
  {
   "cell_type": "code",
   "execution_count": null,
   "metadata": {},
   "outputs": [],
   "source": [
    "# Stack 클래스 생성하고 init method를 이용하여 멤버 변수를 만들어줌\n",
    "class Stack:\n",
    "    # 리스트를 이용하여 스택 생성\n",
    "    def __init__(self):\n",
    "        # top 변수 안에는 파이썬에 내장된 list를 이용하여 스택 생성\n",
    "        self.top = [] \n",
    "    \n",
    "    # 스택의 크기(길이)를 출력\n",
    "    def __len__(self):\n",
    "        return len(self.top)\n",
    "    \n",
    "    # 스택 내부에 저장된 데이터를 string으로 변환하여 반환\n",
    "    def __str__(self):\n",
    "        return str(self.top[::1])\n",
    "    \n",
    "    # PUSH\n",
    "    def push(self, item):\n",
    "        self.top.append(item)\n",
    "    \n",
    "    # POP\n",
    "    def pop(self):\n",
    "        # 스택에 반환할 값이 있다면\n",
    "        if not self.isEmpty():\n",
    "            return self.top.pop(-1)\n",
    "        else:\n",
    "            print('Stack underflow')\n",
    "            exit()\n",
    "    \n",
    "    # 스택 초기화\n",
    "    def clear(self):\n",
    "        self.top = []\n",
    "    \n",
    "    # 자료가 포함되어 있는지 여부 반환\n",
    "    def isContain(self, item):\n",
    "        return item in self.top\n",
    "    \n",
    "    # 스택에서 top의 값을 읽어옴\n",
    "    def peek(self):\n",
    "        if not self.isEmpty():\n",
    "            # top 리스트의 가장 마지막 원소 = top의 값(후입선출)\n",
    "            return self.top[-1]\n",
    "        else:\n",
    "            print('underflow')\n",
    "            exit()\n",
    "    \n",
    "    # 스택이 비어있는지 확인\n",
    "    def isEmpty(self):\n",
    "        return len(self.top)==0\n",
    "    \n",
    "    # 스택 크기 반환\n",
    "    def size(self):\n",
    "        return len(self.top)"
   ]
  },
  {
   "cell_type": "markdown",
   "metadata": {},
   "source": [
    "# 9.5 큐"
   ]
  },
  {
   "cell_type": "markdown",
   "metadata": {},
   "source": [
    "## 9.5.1 큐 구현"
   ]
  },
  {
   "cell_type": "code",
   "execution_count": 1,
   "metadata": {},
   "outputs": [],
   "source": [
    "class Queue():\n",
    "    def __init__(self):\n",
    "        self.queue = []\n",
    "    \n",
    "    def enqueue(self, data):\n",
    "        self.queue.append(data)\n",
    "    \n",
    "    def dequeue(self):\n",
    "        dequeue_object = None\n",
    "        if self.isEmpty():\n",
    "            print('Queue is Empty')\n",
    "        else:\n",
    "            dequeue_object = self.queue[0]\n",
    "            self.queue = self.queue[1:]\n",
    "        \n",
    "        return dequeue_object\n",
    "    \n",
    "    def peek(self):\n",
    "        peek_object = None\n",
    "        if self.isEmpty():\n",
    "            print('Queue is Empty')\n",
    "        else:\n",
    "            peek_object = self.queue[0]\n",
    "        return peek_object\n",
    "    \n",
    "    def isEmpty(self):\n",
    "        is_empty = False\n",
    "        if len(self.queue) == 0:\n",
    "            is_empty = True\n",
    "        return is_empty"
   ]
  }
 ],
 "metadata": {
  "interpreter": {
   "hash": "aee8b7b246df8f9039afb4144a1f6fd8d2ca17a180786b69acc140d282b71a49"
  },
  "kernelspec": {
   "display_name": "Python 3.9.10 64-bit",
   "language": "python",
   "name": "python3"
  },
  "language_info": {
   "codemirror_mode": {
    "name": "ipython",
    "version": 3
   },
   "file_extension": ".py",
   "mimetype": "text/x-python",
   "name": "python",
   "nbconvert_exporter": "python",
   "pygments_lexer": "ipython3",
   "version": "3.9.10"
  },
  "orig_nbformat": 4
 },
 "nbformat": 4,
 "nbformat_minor": 2
}
