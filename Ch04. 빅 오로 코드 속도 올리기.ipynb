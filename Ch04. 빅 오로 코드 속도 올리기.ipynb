{
 "cells": [
  {
   "cell_type": "code",
   "execution_count": 1,
   "metadata": {},
   "outputs": [],
   "source": [
    "# 결과 확인을 용이하게 하기 위한 코드\n",
    "from IPython.core.interactiveshell import InteractiveShell\n",
    "InteractiveShell.ast_node_interactivity = 'all'\n",
    "\n",
    "import numpy as np"
   ]
  },
  {
   "cell_type": "markdown",
   "metadata": {},
   "source": [
    "# 4.2 버블 정렬 실제로 해보기"
   ]
  },
  {
   "cell_type": "markdown",
   "metadata": {},
   "source": [
    "## 4.2.1 버블 정렬 구현"
   ]
  },
  {
   "cell_type": "code",
   "execution_count": 2,
   "metadata": {},
   "outputs": [],
   "source": [
    "def bubble_sort(list):\n",
    "\n",
    "    # 아직 정렬되지 않은 배열의 가장 오른쪽 인덱스 \n",
    "    unsorted_until_index = len(list) - 1\n",
    "\n",
    "    # 배열의 정렬 여부를 기록하는 변수\n",
    "    sorted = False\n",
    "\n",
    "    # 1 loop = 1 pass through\n",
    "    while not sorted:\n",
    "        sorted = True\n",
    "        for i in range(unsorted_until_index):\n",
    "            if list[i] > list[i+1]:\n",
    "                list[i], list[i+1] = list[i+1], list[i]\n",
    "                sorted = False\n",
    "        unsorted_until_index -= 1\n",
    "    \n",
    "    return list"
   ]
  },
  {
   "cell_type": "markdown",
   "metadata": {},
   "source": [
    "# 4.5 선형 해결법"
   ]
  },
  {
   "cell_type": "code",
   "execution_count": 7,
   "metadata": {},
   "outputs": [],
   "source": [
    "def hasDuplicateValue(array):\n",
    "    steps = 0\n",
    "\n",
    "    # python은 빈 리스트 만들어서 값을 할당하는 것이 안되는 것 같으니\n",
    "    # array에서의 max값을 인덱스로 넣을 수 있을만큼의 길이의 None list를 생성해주기\n",
    "    \n",
    "    existingNumbers = [None] * (max(array)+1)\n",
    "\n",
    "    for i in range(len(array)):\n",
    "        steps += 1\n",
    "        if existingNumbers[array[i]] == 1:\n",
    "            return True\n",
    "        else:\n",
    "            existingNumbers[array[i]] = 1\n",
    "    print(steps)\n",
    "    return False "
   ]
  },
  {
   "cell_type": "code",
   "execution_count": 8,
   "metadata": {},
   "outputs": [
    {
     "name": "stdout",
     "output_type": "stream",
     "text": [
      "5\n"
     ]
    },
    {
     "data": {
      "text/plain": [
       "False"
      ]
     },
     "execution_count": 8,
     "metadata": {},
     "output_type": "execute_result"
    }
   ],
   "source": [
    "hasDuplicateValue([1,4,5,2,9])"
   ]
  }
 ],
 "metadata": {
  "interpreter": {
   "hash": "aee8b7b246df8f9039afb4144a1f6fd8d2ca17a180786b69acc140d282b71a49"
  },
  "kernelspec": {
   "display_name": "Python 3.9.10 64-bit",
   "language": "python",
   "name": "python3"
  },
  "language_info": {
   "codemirror_mode": {
    "name": "ipython",
    "version": 3
   },
   "file_extension": ".py",
   "mimetype": "text/x-python",
   "name": "python",
   "nbconvert_exporter": "python",
   "pygments_lexer": "ipython3",
   "version": "3.9.10"
  },
  "orig_nbformat": 4
 },
 "nbformat": 4,
 "nbformat_minor": 2
}
