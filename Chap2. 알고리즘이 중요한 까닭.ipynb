{
 "cells": [
  {
   "cell_type": "code",
   "execution_count": 7,
   "metadata": {
    "ExecuteTime": {
     "end_time": "2022-03-16T05:06:03.115207Z",
     "start_time": "2022-03-16T05:06:03.111992Z"
    }
   },
   "outputs": [],
   "source": [
    "# 결과 확인을 용이하게 하기 위한 코드\n",
    "from IPython.core.interactiveshell import InteractiveShell\n",
    "InteractiveShell.ast_node_interactivity = 'all'"
   ]
  },
  {
   "cell_type": "markdown",
   "metadata": {},
   "source": [
    "# 2.2 정렬된 배열의 검색"
   ]
  },
  {
   "cell_type": "code",
   "execution_count": 14,
   "metadata": {
    "ExecuteTime": {
     "end_time": "2022-03-16T05:12:04.919008Z",
     "start_time": "2022-03-16T05:12:04.912289Z"
    }
   },
   "outputs": [
    {
     "data": {
      "text/plain": [
       "1"
      ]
     },
     "execution_count": 14,
     "metadata": {},
     "output_type": "execute_result"
    },
    {
     "data": {
      "text/plain": [
       "'None'"
      ]
     },
     "execution_count": 14,
     "metadata": {},
     "output_type": "execute_result"
    }
   ],
   "source": [
    "# 선형 검색 \n",
    "def linear_search(arr, target):\n",
    "    for i in range(len(arr)):\n",
    "        if arr[i] == target:\n",
    "            return i\n",
    "    return 'None'\n",
    "\n",
    "linear_search([1,2,10,6,5,11,22,33],2)\n",
    "linear_search([1,2,10,6,5,11,22,33],3)"
   ]
  },
  {
   "cell_type": "markdown",
   "metadata": {},
   "source": [
    "# 2.3 이진 검색"
   ]
  },
  {
   "cell_type": "code",
   "execution_count": 17,
   "metadata": {
    "ExecuteTime": {
     "end_time": "2022-03-16T05:28:34.755723Z",
     "start_time": "2022-03-16T05:28:34.751576Z"
    }
   },
   "outputs": [],
   "source": [
    "def binary_search(arr, target):\n",
    "    \n",
    "    # 찾으려는 값이 있을 수 있는 상한선과 하한선 정하기\n",
    "    # 최초의 상한선은 배열의 첫 번째 값, 하한선은 마지막 값이다.\n",
    "    \n",
    "    start = 0         \n",
    "    end = len(arr) - 1 \n",
    "    \n",
    "    # 상한선과 하한선 사이의 가운데 값을 계속해서 확인하는 루프를 시작한다.\n",
    "    while start <= end:\n",
    "        \n",
    "        # 상한선과 하한선의 중간 지점 찾기\n",
    "        mid = (start + end) // 2 \n",
    "        \n",
    "        # 중간 지점의 값 == target\n",
    "        if arr[mid] == target:\n",
    "            return mid\n",
    "        \n",
    "        # 중간 지점의 값 > target\n",
    "        elif arr[mid] > target:\n",
    "            end = mid - 1\n",
    "        \n",
    "        # 중간 지점의 값 < target\n",
    "        else:\n",
    "            start = mid + 1\n",
    "            \n",
    "    return 'None'"
   ]
  },
  {
   "cell_type": "code",
   "execution_count": 18,
   "metadata": {
    "ExecuteTime": {
     "end_time": "2022-03-16T05:28:35.634137Z",
     "start_time": "2022-03-16T05:28:35.628171Z"
    }
   },
   "outputs": [
    {
     "data": {
      "text/plain": [
       "1"
      ]
     },
     "execution_count": 18,
     "metadata": {},
     "output_type": "execute_result"
    },
    {
     "data": {
      "text/plain": [
       "'None'"
      ]
     },
     "execution_count": 18,
     "metadata": {},
     "output_type": "execute_result"
    }
   ],
   "source": [
    "binary_search([1,2,10,6,5,11,22,33],2)\n",
    "binary_search([1,2,10,6,5,11,22,33],3)"
   ]
  },
  {
   "cell_type": "code",
   "execution_count": null,
   "metadata": {},
   "outputs": [],
   "source": []
  }
 ],
 "metadata": {
  "interpreter": {
   "hash": "aee8b7b246df8f9039afb4144a1f6fd8d2ca17a180786b69acc140d282b71a49"
  },
  "kernelspec": {
   "display_name": "Python 3 (ipykernel)",
   "language": "python",
   "name": "python3"
  },
  "language_info": {
   "codemirror_mode": {
    "name": "ipython",
    "version": 3
   },
   "file_extension": ".py",
   "mimetype": "text/x-python",
   "name": "python",
   "nbconvert_exporter": "python",
   "pygments_lexer": "ipython3",
   "version": "3.9.10"
  },
  "toc": {
   "base_numbering": 1,
   "nav_menu": {},
   "number_sections": true,
   "sideBar": true,
   "skip_h1_title": false,
   "title_cell": "Table of Contents",
   "title_sidebar": "Contents",
   "toc_cell": false,
   "toc_position": {},
   "toc_section_display": true,
   "toc_window_display": false
  }
 },
 "nbformat": 4,
 "nbformat_minor": 2
}
